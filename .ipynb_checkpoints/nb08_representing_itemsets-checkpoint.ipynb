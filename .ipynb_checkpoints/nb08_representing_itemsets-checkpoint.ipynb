{
 "cells": [
  {
   "cell_type": "markdown",
   "metadata": {},
   "source": [
    "# Notebook 8: Representing Itemsets\n",
    "***\n",
    "\n",
    "In this notebook we'll have some practice representing itemset data as a matrix, as a triangular array, and as a list of triples. We will also take a look at how we can use a hash function and hash table to represent items in our inventory as we are discovering them, similar to how we would learn new items in the inventory as customers make new purchases.\n",
    "\n",
    "We'll need some nice packages for this notebook, so let's load them."
   ]
  },
  {
   "cell_type": "code",
   "execution_count": 3,
   "metadata": {},
   "outputs": [],
   "source": [
    "import numpy as np \n",
    "import pandas as pd\n",
    "import scipy.stats as stats\n",
    "import matplotlib.pyplot as plt\n",
    "%matplotlib inline"
   ]
  },
  {
   "cell_type": "markdown",
   "metadata": {},
   "source": [
    "<br>\n",
    "\n",
    "### Exercise 1:  A Most Triangular of Matrices\n",
    "\n",
    "Continuing to work with the PDQ data from last time, let's load up the inventory and the 8 baskets worth of buying history."
   ]
  },
  {
   "cell_type": "code",
   "execution_count": 4,
   "metadata": {},
   "outputs": [],
   "source": [
    "inventory = [\"apple\", \"banana\", \"candy\", \"fancy feast\", \"grape soda\", \"ice cream\"]\n",
    "\n",
    "baskets = {0 : set([\"apple\", \"banana\", \"candy\", \"fancy feast\"]),\n",
    "           1 : set([\"apple\", \"banana\", \"grape soda\"]),\n",
    "           2 : set([\"banana\", \"ice cream\"]),\n",
    "           3 : set([\"apple\", \"candy\", \"ice cream\"]),\n",
    "           4 : set([\"apple\", \"fancy feast\", \"banana\", \"ice cream\"]),\n",
    "           5 : set([\"apple\", \"banana\", \"candy\", \"ice cream\"]),\n",
    "           6 : set([\"candy\", \"ice cream\", \"banana\"]),\n",
    "           7 : set([\"banana\", \"fancy feast\", \"ice cream\"])}"
   ]
  },
  {
   "cell_type": "markdown",
   "metadata": {},
   "source": [
    "Write a `for` loop (or maybe some nested loops) to create and fill in an upper-triangular matrix to reprenset the pairs itemset counts for this data set. One example is done for you."
   ]
  },
  {
   "cell_type": "code",
   "execution_count": 15,
   "metadata": {},
   "outputs": [],
   "source": [
    "n = len(inventory)\n",
    "U = np.zeros((n, n))\n",
    "\n",
    "# what items are we counting up?\n",
    "item1 = \"banana\"\n",
    "item2 = \"fancy feast\"\n",
    "irow = inventory.index(item1)\n",
    "icol = inventory.index(item2)\n",
    "\n",
    "# compute and fill in the (banana, fancy feast) element\n",
    "count = np.sum([set([item1, item2]) <= baskets[k] for k in range(len(baskets))])\n",
    "U[irow,icol] = count\n",
    "\n",
    "# fill in the rest of U here!\n",
    "# TODO"
   ]
  },
  {
   "cell_type": "markdown",
   "metadata": {},
   "source": [
    "### Exercise 2: Pruning the Nonsense\n",
    "\n",
    "The triangular matrix is good and all, but there are so many 0s! Necessarily more than half of the elements of the array are things we don't need to store (0s below the main diagonal, and on the diagonal). So we are motivated to try to trim down this wasteful representation of our data.\n",
    "\n",
    "Instead, let's represent as a *triangular array*. This is a 1-dimensional object with clever indexing to store elements in row $i$ and column $j$ of the upper-triangular matrix:\n",
    "\n",
    "$a[k]$ = count for the pair $(i,j)$, where $0 \\leq i < j \\leq n-1$ ($n$ is the number of items), and \n",
    "$k = i \\cdot \\left(n - \\frac{i+1}{2}\\right) + j - i -1,$\n",
    "\n",
    "where the above equation has been modified from the presentation in the lecture slides to fit with Python's 0-based indexing. Note that this is stored in a row-major fashion, so we know what to expect from seeing the full upper-triangular counts matrix above."
   ]
  },
  {
   "cell_type": "markdown",
   "metadata": {},
   "source": [
    "#### Exercise 2.5: A quick pit-stop\n",
    "\n",
    "If we use a triangular matrix to count pairs, and $n$, the number of items, is 20, what pair’s count is in $a[100]$? Assume indexing begins at 1."
   ]
  },
  {
   "cell_type": "markdown",
   "metadata": {},
   "source": [
    "**Solution:** \n"
   ]
  },
  {
   "cell_type": "code",
   "execution_count": null,
   "metadata": {},
   "outputs": [],
   "source": []
  },
  {
   "cell_type": "markdown",
   "metadata": {},
   "source": [
    "#### Back to the triangular array times!\n",
    "\n",
    "Now then. Store the matrix $U$ from Exercise 1 as a triangular array. Check a few elements to make sure things are working properly. First, it might be useful to consider how many elements we expect in the resulting triangular array? The largest row stores $n-1$ and the smallest stores just 1 element... maybe there is a fond memory from Calculus 1 or Discrete that could be useful here...?"
   ]
  },
  {
   "cell_type": "code",
   "execution_count": null,
   "metadata": {},
   "outputs": [],
   "source": [
    "# SOLUTION:\n",
    "\n",
    "# need to sum up 1+2+...+(n-1).\n",
    "nt = ###Your code Here\n",
    "print(\"We expect {:0.0f} elements\".format(nt))"
   ]
  },
  {
   "cell_type": "code",
   "execution_count": 28,
   "metadata": {},
   "outputs": [],
   "source": [
    "# SOLUTION:\n",
    "\n",
    "# first, defining a helper function to get the Triangular Array Indices\n",
    "def tai(i,j,n):\n",
    "    k = ###Your code here\n",
    "    return int(k)\n",
    "\n",
    "# now nested for loops over the trinagular matrix\n",
    "a = [0]*nt\n",
    "k = 0\n",
    "for i in range(n):\n",
    "    ###Your code here"
   ]
  },
  {
   "cell_type": "code",
   "execution_count": null,
   "metadata": {},
   "outputs": [],
   "source": [
    "print(U)\n",
    "print(a) #should be the uppertriag entries of U!"
   ]
  },
  {
   "cell_type": "markdown",
   "metadata": {},
   "source": [
    "### Exercise 3: Array Triple Threat\n",
    "\n",
    "Another handy representation of our itemset counts data is as an array of triples $(i,j,c)$, where $c$ is the count for the pair $(i,j)$. Try to code up the itemset count data as an array of triples (indexed starting at 0). *Hint: go green! and recycle almost all of the code from the triangular array above.*"
   ]
  },
  {
   "cell_type": "code",
   "execution_count": 2,
   "metadata": {},
   "outputs": [
    {
     "ename": "NameError",
     "evalue": "name 'trips' is not defined",
     "output_type": "error",
     "traceback": [
      "\u001b[1;31m---------------------------------------------------------------------------\u001b[0m",
      "\u001b[1;31mNameError\u001b[0m                                 Traceback (most recent call last)",
      "\u001b[1;32m<ipython-input-2-7bd2192a07a3>\u001b[0m in \u001b[0;36m<module>\u001b[1;34m()\u001b[0m\n\u001b[0;32m      2\u001b[0m \u001b[1;33m\u001b[0m\u001b[0m\n\u001b[0;32m      3\u001b[0m \u001b[1;31m###Your code\u001b[0m\u001b[1;33m\u001b[0m\u001b[1;33m\u001b[0m\u001b[0m\n\u001b[1;32m----> 4\u001b[1;33m \u001b[0mprint\u001b[0m\u001b[1;33m(\u001b[0m\u001b[0mtrips\u001b[0m\u001b[1;33m)\u001b[0m\u001b[1;33m\u001b[0m\u001b[0m\n\u001b[0m",
      "\u001b[1;31mNameError\u001b[0m: name 'trips' is not defined"
     ]
    }
   ],
   "source": [
    "# SOLUTION:\n",
    "\n",
    "###Your code\n",
    "print(trips)"
   ]
  },
  {
   "cell_type": "markdown",
   "metadata": {},
   "source": [
    "### Exercise 4: Eggs with a side of Hash Brow-I mean- Functions\n",
    "\n",
    "Suppose we have upped our convenience store game and now sell the following products. (Note: yes, there may be repeated items in this inventory.)"
   ]
  },
  {
   "cell_type": "code",
   "execution_count": 53,
   "metadata": {},
   "outputs": [],
   "source": [
    "inventory = [\"puppies\", \"better candy\", \"cookie jar ice cream\", \"pizza bagels\", \\\n",
    "             \"warm slippers on a cold day\", \"coffee\", \"better candy\", \"mashed potatoes\"]"
   ]
  },
  {
   "cell_type": "markdown",
   "metadata": {},
   "source": [
    "In practical applications, using methods like `inventory.index(\"mashed potatoes\")` won't be a very efficient way to get the integer index for the counts matrix elements corresponding to mashed potatoes because the matrix will be huge. \n",
    "\n",
    "Instead, as we sequentially read new items from our list of inventory, we can use a **hash function** to convert the items into integers. Those integers, however, will almost certainly never be the sequential numbers 1, 2, ..., $n$ (where $n$ is the number of items in our inventory). Rather, we can use the hash values to look up in our hash table what is the integer value corresponding to a given item.\n",
    "\n",
    "Let's use the hash function that sums the ASCII values for each letter in an item's name, and takes the remainder when that sum is divided by a nice large prime number. Pick a nice prime number from [this list](https://www.mathsisfun.com/numbers/prime-numbers-to-10k.html). For the sake of example, we'll use $p=37$.\n",
    "\n",
    "**Reminder:** `ord(\"a\")` returns the ASCII value corresponding to the character \"a\", for example."
   ]
  },
  {
   "cell_type": "code",
   "execution_count": 201,
   "metadata": {},
   "outputs": [],
   "source": [
    "def hashfcn(itemname, p):\n",
    "    # sum up the ASCII values in the string itemname\n",
    "    #TODO\n",
    "    # mod down by the prime p\n",
    "    #TODO\n",
    "    return 0 # TODO - return the hash value"
   ]
  },
  {
   "cell_type": "markdown",
   "metadata": {},
   "source": [
    "To hash the item \"puppies\", for example, we would do:"
   ]
  },
  {
   "cell_type": "code",
   "execution_count": 203,
   "metadata": {},
   "outputs": [
    {
     "name": "stdout",
     "output_type": "stream",
     "text": [
      "34\n"
     ]
    }
   ],
   "source": [
    "p = 37\n",
    "hv = hashfcn(\"puppies\", p)\n",
    "print(hv)"
   ]
  },
  {
   "cell_type": "markdown",
   "metadata": {},
   "source": [
    "And we need a table where we can look up the element at slot 37 to find the integer corresponding to \"puppies\". Since this is the first item, we should start it off at index 0 in our triangular matrix/array/list of triples. The second item to be hashed and stored should be assigned index 1, and so on. We will store these items and their indices as tuples (item, index) so that if there were some collisions, we could resolve them by storing a list of (item, index) tuples at that hash value and searching through to check whether the item we are hashing is already at that spot.\n",
    "\n",
    "We start by initializing our lookup table. "
   ]
  },
  {
   "cell_type": "code",
   "execution_count": 207,
   "metadata": {},
   "outputs": [],
   "source": [
    "lookup = [False]*p  # using -1 as the fill-value since 0 could be an index, or False"
   ]
  },
  {
   "cell_type": "markdown",
   "metadata": {},
   "source": [
    "Read the inventory list element-by-element, and store the (item, index) tuples in the lookup table. Yes, we could certainly use a dictionary, but let's just pretend we have a more primitive language. For fun!\n",
    "\n",
    "The code stencil below assumes no collisions. It will be up to you in your homework to generalize this code to resolve collisions, so consider playing around with what you might do in that case here."
   ]
  },
  {
   "cell_type": "code",
   "execution_count": null,
   "metadata": {},
   "outputs": [],
   "source": [
    "# need to keep a running count of how many items we've seen\n",
    "cnt = 0\n",
    "\n",
    "for item in inventory:\n",
    "    # hash the item\n",
    "    #TODO\n",
    "    if not lookup[hv]:\n",
    "        # if the slot is free, put the (item, index) pair there\n",
    "        #TODO\n",
    "        # and increment the index counter\n",
    "        #TODO\n",
    "    else:\n",
    "        # if the slot is taken, check if the element there is the one we want\n",
    "        # this gets a list of all the item names stored there\n",
    "        items = [lookup[hv][k][0] for k in range(len(lookup[hv]))]\n",
    "        if item in items:\n",
    "            # let the user know you've seen this item before\n",
    "            print(\"We have seen item [{}] before.\".format(item))\n",
    "        else:\n",
    "            # for now, just let the user know there is a collision to resolve\n",
    "            print(\"Collision at hash value {}\".format(hv))"
   ]
  },
  {
   "cell_type": "markdown",
   "metadata": {},
   "source": [
    "#### Using our hash table: a tail of pizza bagels and puppies\n",
    "\n",
    "Suppose for the pair (puppies, pizza bagels) we need to set the itemset count equal to 16. Use the `lookup` table and `hashfcn` to determine the row $i$ and column $j$ of the upper-triangular counts matrix that corresponds to this itemset pair."
   ]
  },
  {
   "cell_type": "code",
   "execution_count": null,
   "metadata": {},
   "outputs": [],
   "source": []
  }
 ],
 "metadata": {
  "kernelspec": {
   "display_name": "Python 3",
   "language": "python",
   "name": "python3"
  },
  "language_info": {
   "codemirror_mode": {
    "name": "ipython",
    "version": 3
   },
   "file_extension": ".py",
   "mimetype": "text/x-python",
   "name": "python",
   "nbconvert_exporter": "python",
   "pygments_lexer": "ipython3",
   "version": "3.6.4"
  }
 },
 "nbformat": 4,
 "nbformat_minor": 2
}
