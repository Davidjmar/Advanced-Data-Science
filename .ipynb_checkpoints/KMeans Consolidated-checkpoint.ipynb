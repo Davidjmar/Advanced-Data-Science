{
 "cells": [
  {
   "cell_type": "code",
   "execution_count": 2,
   "metadata": {},
   "outputs": [],
   "source": [
    "import numpy as np \n",
    "import pandas as pd\n",
    "import scipy.stats as stats\n",
    "import matplotlib.pyplot as plt\n",
    "%matplotlib inline\n",
    "\n",
    "def dist(x1, x2):\n",
    "    return np.sqrt(np.sum((x1-x2)**2)) #2-d euclidean distance"
   ]
  },
  {
   "cell_type": "code",
   "execution_count": 8,
   "metadata": {},
   "outputs": [
    {
     "data": {
      "text/plain": [
       "array([[2.39008276, 1.49797572],\n",
       "       [2.1065038 , 2.08865758],\n",
       "       [2.52398244, 2.34331261],\n",
       "       [1.2247692 , 1.855986  ],\n",
       "       [2.64641072, 1.83014267],\n",
       "       [1.79095904, 2.1847355 ]])"
      ]
     },
     "execution_count": 8,
     "metadata": {},
     "output_type": "execute_result"
    }
   ],
   "source": [
    "#fake data\n",
    "np.random.seed(12345)\n",
    "x1 = stats.multivariate_normal.rvs(mean=[1,1], cov=[[.15,0],[0,.15]], size=5)\n",
    "x2 = stats.multivariate_normal.rvs(mean=[2,2], cov=[[.15,0],[0,.15]], size=6)\n",
    "X = np.concatenate([x1, x2])\n",
    "X[0]"
   ]
  },
  {
   "cell_type": "code",
   "execution_count": 4,
   "metadata": {},
   "outputs": [
    {
     "data": {
      "image/png": "[encoded data removed]",
      "text/plain": [
       "<Figure size 360x360 with 1 Axes>"
      ]
     },
     "metadata": {},
     "output_type": "display_data"
    }
   ],
   "source": [
    "#Initialize\n",
    "K = 3\n",
    "#however...\n",
    "x1_coords = [x[0] for x in X]\n",
    "centroids = np.array([X[x1_coords.index(min(x1_coords))], \\\n",
    "                      X[x1_coords.index(max(x1_coords))], \\\n",
    "                     X[x1_coords.index(np.median(x1_coords))]]) # initialize\n",
    "#centroids = np.array([X[2], \\\n",
    "#                      X[1], \\\n",
    "#                     X[0]]) # initialize\n",
    "\n",
    "dists = [0]*K # your code goes here!\n",
    "clusters = np.array([-1]*len(X))\n",
    "\n",
    "###OPTIONAL visualiztion on initialization\n",
    "for j in range(len(X)):\n",
    "    dists = [dist(X[j], cent) for cent in centroids]\n",
    "    assignment = dists.index(min(dists))\n",
    "    clusters[j] = assignment\n",
    "#initial cluster plot\n",
    "fig, ax = plt.subplots(1,1, figsize=(5,5))\n",
    "plt.scatter([x[0] for x in X], [x[1] for x in X], c=clusters)\n",
    "plt.scatter([x[0] for x in centroids], [x[1] for x in centroids], c='red', marker='+')\n",
    "plt.axis([0, 3, 0, 3])\n",
    "plt.xlabel(\"x1\")\n",
    "plt.ylabel(\"x2\")\n",
    "plt.show()\n",
    "###END OPTIONAL"
   ]
  },
  {
   "cell_type": "code",
   "execution_count": 74,
   "metadata": {},
   "outputs": [],
   "source": [
    "for _ in range(100): #100 steps is fine; or a tolerance/change check.\n",
    "    #update classifications\n",
    "    for j in range(len(X)):\n",
    "        dists = [dist(X[j], cent) for cent in centroids]\n",
    "        assignment = dists.index(min(dists))\n",
    "        clusters[j] = assignment\n",
    "    #update centroids\n",
    "    for j in range(K):\n",
    "        centroids[j]=[np.sum(X[clusters==j,0])/len(X[clusters==j,0]),np.sum(X[clusters==j,1])/len(X[clusters==j,1])]\n"
   ]
  },
  {
   "cell_type": "code",
   "execution_count": 77,
   "metadata": {},
   "outputs": [
    {
     "data": {
      "image/png": "[encoded data removed]",
      "text/plain": [
       "<matplotlib.figure.Figure at 0x2a21f97fc88>"
      ]
     },
     "metadata": {},
     "output_type": "display_data"
    }
   ],
   "source": [
    "#final cluster plot\n",
    "fig, ax = plt.subplots(1,1, figsize=(5,5))\n",
    "plt.scatter([x[0] for x in X], [x[1] for x in X], c=clusters)\n",
    "plt.scatter([x[0] for x in centroids], [x[1] for x in centroids], c='red', marker='+')\n",
    "\n",
    "plt.axis([0, 3, 0, 3])\n",
    "plt.xlabel(\"x1\")\n",
    "plt.ylabel(\"x2\")\n",
    "plt.show()"
   ]
  }
 ],
 "metadata": {
  "kernelspec": {
   "display_name": "Python 3",
   "language": "python",
   "name": "python3"
  },
  "language_info": {
   "codemirror_mode": {
    "name": "ipython",
    "version": 3
   },
   "file_extension": ".py",
   "mimetype": "text/x-python",
   "name": "python",
   "nbconvert_exporter": "python",
   "pygments_lexer": "ipython3",
   "version": "3.6.5"
  }
 },
 "nbformat": 4,
 "nbformat_minor": 2
}
