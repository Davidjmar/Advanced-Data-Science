{
 "cells": [
  {
   "cell_type": "markdown",
   "metadata": {},
   "source": [
    "# CSCI4022 Homework 1; Review\n",
    "\n",
    "## Due Monday, Sept. 9 at 11:59 pm to Canvas\n",
    "\n",
    "#### Submit this file as a .ipynb with *all cells compiled and run* to the associated dropbox.\n",
    "\n"
   ]
  },
  {
   "cell_type": "code",
   "execution_count": 1,
   "metadata": {},
   "outputs": [],
   "source": [
    "import matplotlib.pyplot as plt\n",
    "import numpy as np\n",
    "import pandas as pd"
   ]
  },
  {
   "cell_type": "markdown",
   "metadata": {},
   "source": [
    "## Problem 1 (Bayes; 10 points)\n",
    "\n",
    "Nationally, 1 in 10000 people have a specific rare disease. Suppose a test for the disease is administered such the probability that a person with the disease returns a positive test is *100%*.  The probability that a person without the disease returns a positive test is .02.\n",
    " - What is the probability that a person tests positive?\n",
    " - What is the probability that a person has the disease *given* they test positive?\n",
    " \n",
    "Use the following markdown cell to show all work in computing the exact answer."
   ]
  },
  {
   "cell_type": "markdown",
   "metadata": {},
   "source": [
    "## Answer:\n",
    "***\n",
    "$P(A) = P($a person tests positive$) = P($true positive$) \\cup P($false positive$) = P(\\frac1{10000}) \\cup P(.02)$\n",
    "<br>\n",
    "therefore:\n",
    "<br>\n",
    "$.0001 * .02 = 0.000002$ probability a person tests positive"
   ]
  },
  {
   "cell_type": "markdown",
   "metadata": {},
   "source": [
    "$P(A | B) = P($has the disease $|$ positive test$) = \\frac{P(positiveTest | haveDisease) * P(haveDisease)}{P(positiveTest)} = \\frac{1*.0001}{0.00020} = 0.50 $ or %50 chance a persons has the disease given they test positive."
   ]
  },
  {
   "cell_type": "markdown",
   "metadata": {},
   "source": [
    "## Problem 2 (Numerics... kind of; 15 points)\n",
    "\n",
    "####  a) Solve for $b$ in the matrix-vector product $$\\begin{bmatrix}a_1 & a_2 \\\\ a_3 & a_4\\end{bmatrix} \\cdot \\begin{bmatrix}x_1\\\\ x_2\\end{bmatrix}=b.$$\n",
    "\n",
    "####  How many computations does this take, if each multiplication and addition is counted as a separate computation?  \n",
    "\n",
    " #### What about for\n",
    "\n",
    "$$\\begin{bmatrix}a_1 & a_2 &a_3 \\\\ a_4 & a_5 &a_6 \\\\ a_7&a_8&a_9 \\end{bmatrix} \\cdot \\begin{bmatrix}x_1\\\\ x_2\\\\x_3\\end{bmatrix}=b?$$\n",
    "\n",
    "Use the following markdown cell to show all work in computing the exact answer.\n"
   ]
  },
  {
   "cell_type": "markdown",
   "metadata": {},
   "source": [
    "# Answer:\n",
    "***\n",
    "for a.1:\n",
    "<br>\n",
    "$$\\begin{bmatrix}a_1 & a_2 \\\\ a_3 & a_4\\end{bmatrix} \\cdot \\begin{bmatrix}x_1\\\\ x_2\\end{bmatrix}=b$$\n",
    "<br>\n",
    "$$\\begin{bmatrix}a_1 * x_1 + a_2 * x_2 \\\\ a_3 * x_1 + a_4 * x_2\\end{bmatrix}=b$$\n",
    "<br>\n",
    "Six Computations\n",
    "<br>\n",
    "<br>\n",
    "a.2\n",
    "<br>\n",
    "It would therefore take 15 computations as there are 3 sets of multiplication and 2 sets of addition each row. Thus 5*3(rows) = 15 computations total.\n",
    "<br>"
   ]
  },
  {
   "cell_type": "markdown",
   "metadata": {},
   "source": [
    "\n",
    "####  b) How many computations does matrix-vector computation take if the matrix $A$ is a square $n \\times n$ matrix and the vector $x$ is $n \\times 1$? \n",
    "\n",
    "Visually:\n",
    "\n",
    "$$\\begin{bmatrix} \n",
    "    a_{11} & a_{12} & \\dots \\\\\n",
    "    \\vdots & \\ddots & \\\\\n",
    "    a_{n1} &        & a_{nn} \n",
    "    \\end{bmatrix}  \\cdot \\begin{bmatrix}x_1\\\\ \\vdots \\\\x_n\\end{bmatrix}=b$$\n",
    "\n",
    "Use the following markdown cell to show all work in computing the exact answer.\n"
   ]
  },
  {
   "cell_type": "markdown",
   "metadata": {},
   "source": [
    "# Answer:\n",
    "\n",
    "<br>\n",
    " numberOfComputations $= n^2 + (n*(n-1)) $"
   ]
  },
  {
   "cell_type": "code",
   "execution_count": 2,
   "metadata": {},
   "outputs": [
    {
     "name": "stdout",
     "output_type": "stream",
     "text": [
      "6\n",
      "15\n",
      "28\n"
     ]
    }
   ],
   "source": [
    "def numberOfComputations(n):\n",
    "    return (n**2 + (n*(n-1)))\n",
    "\n",
    "print(numberOfComputations(2))\n",
    "print(numberOfComputations(3))\n",
    "print(numberOfComputations(4))"
   ]
  },
  {
   "cell_type": "markdown",
   "metadata": {},
   "source": [
    "#### c) How many computations does square matrix-matrix multiplication take if each matrix is $n \\times n$? \n",
    "\n",
    "For example:\n",
    "\n",
    "$$\\begin{bmatrix} \n",
    "    a_{11} & a_{12} & \\dots \\\\\n",
    "    \\vdots & \\ddots & \\\\\n",
    "    a_{n1} &        & a_{nn} \n",
    "    \\end{bmatrix} \\cdot \n",
    "    \\begin{bmatrix} \n",
    "    b_{11} & b_{12} & \\dots \\\\\n",
    "    \\vdots & \\ddots & \\\\\n",
    "    b_{n1} &        & b_{nn} \n",
    "    \\end{bmatrix}=C$$\n",
    "    \n",
    "Hint: how many computations for the entry $c_{ij}$ in row $i$, column $j$?\n",
    "\n",
    "If $n=10^4$, what number is this?"
   ]
  },
  {
   "cell_type": "markdown",
   "metadata": {},
   "source": [
    "# Answer:\n",
    "\n",
    "***\n",
    "<br>\n",
    "There are:\n",
    "<br>\n",
    "squareComputations $= (n^2 + (n*(n-1))) * n $"
   ]
  },
  {
   "cell_type": "code",
   "execution_count": 3,
   "metadata": {},
   "outputs": [
    {
     "name": "stdout",
     "output_type": "stream",
     "text": [
      "12\n",
      "45\n",
      "1990000\n"
     ]
    }
   ],
   "source": [
    "def squareComputationCalculator(n):\n",
    "    return ((n**2+ (n*(n-1)))*n)\n",
    "\n",
    "print(squareComputationCalculator(2))\n",
    "print(squareComputationCalculator(3))\n",
    "print(squareComputationCalculator(10**2))"
   ]
  },
  {
   "cell_type": "markdown",
   "metadata": {},
   "source": [
    "Therefore there are 1,990,000 computations if $n=10^4$"
   ]
  },
  {
   "cell_type": "markdown",
   "metadata": {},
   "source": [
    "## Problem 3 (EDA, SLR; 20 points)\n",
    "\n",
    "NOAA's Physical Sciences division (https://www.esrl.noaa.gov/psd) houses an enormous amount of weather data.  Load `hw1BoulderPPT.csv` from the course page for the last 100 years of monthly precipitation data from Boulder.\n",
    "\n",
    "#### a) When the amount of precipitation was nonzero but too small to be recorded, this data set recorded `tr`.  Replace these with zeroes."
   ]
  },
  {
   "cell_type": "code",
   "execution_count": 4,
   "metadata": {},
   "outputs": [
    {
     "data": {
      "text/html": [
       "<div>\n",
       "<style scoped>\n",
       "    .dataframe tbody tr th:only-of-type {\n",
       "        vertical-align: middle;\n",
       "    }\n",
       "\n",
       "    .dataframe tbody tr th {\n",
       "        vertical-align: top;\n",
       "    }\n",
       "\n",
       "    .dataframe thead th {\n",
       "        text-align: right;\n",
       "    }\n",
       "</style>\n",
       "<table border=\"1\" class=\"dataframe\">\n",
       "  <thead>\n",
       "    <tr style=\"text-align: right;\">\n",
       "      <th></th>\n",
       "      <th>Year</th>\n",
       "      <th>JAN</th>\n",
       "      <th>FEB</th>\n",
       "      <th>MAR</th>\n",
       "      <th>APR</th>\n",
       "      <th>MAY</th>\n",
       "      <th>JUN</th>\n",
       "      <th>JUL</th>\n",
       "      <th>AUG</th>\n",
       "      <th>SEP</th>\n",
       "      <th>OCT</th>\n",
       "      <th>NOV</th>\n",
       "      <th>DEC</th>\n",
       "      <th>YEAR TOTAL</th>\n",
       "    </tr>\n",
       "  </thead>\n",
       "  <tbody>\n",
       "    <tr>\n",
       "      <th>0</th>\n",
       "      <td>1919</td>\n",
       "      <td>0</td>\n",
       "      <td>0.32</td>\n",
       "      <td>1.49</td>\n",
       "      <td>1.65</td>\n",
       "      <td>0.88</td>\n",
       "      <td>1.1</td>\n",
       "      <td>7.46</td>\n",
       "      <td>0.95</td>\n",
       "      <td>0.88</td>\n",
       "      <td>1.31</td>\n",
       "      <td>2.07</td>\n",
       "      <td>0.50</td>\n",
       "      <td>18.61</td>\n",
       "    </tr>\n",
       "    <tr>\n",
       "      <th>1</th>\n",
       "      <td>1920</td>\n",
       "      <td>1.22</td>\n",
       "      <td>1.39</td>\n",
       "      <td>0.58</td>\n",
       "      <td>4.07</td>\n",
       "      <td>1.61</td>\n",
       "      <td>1.87</td>\n",
       "      <td>0.68</td>\n",
       "      <td>2.55</td>\n",
       "      <td>0.73</td>\n",
       "      <td>2.43</td>\n",
       "      <td>0.72</td>\n",
       "      <td>0.85</td>\n",
       "      <td>18.70</td>\n",
       "    </tr>\n",
       "    <tr>\n",
       "      <th>2</th>\n",
       "      <td>1921</td>\n",
       "      <td>0.11</td>\n",
       "      <td>0.31</td>\n",
       "      <td>0.77</td>\n",
       "      <td>4.81</td>\n",
       "      <td>1.5</td>\n",
       "      <td>3.62</td>\n",
       "      <td>1.53</td>\n",
       "      <td>2.00</td>\n",
       "      <td>0.17</td>\n",
       "      <td>1.13</td>\n",
       "      <td>0.98</td>\n",
       "      <td>1.46</td>\n",
       "      <td>18.39</td>\n",
       "    </tr>\n",
       "    <tr>\n",
       "      <th>3</th>\n",
       "      <td>1922</td>\n",
       "      <td>0.63</td>\n",
       "      <td>0.59</td>\n",
       "      <td>0.81</td>\n",
       "      <td>3.32</td>\n",
       "      <td>1.02</td>\n",
       "      <td>0.62</td>\n",
       "      <td>1.04</td>\n",
       "      <td>1.50</td>\n",
       "      <td>0</td>\n",
       "      <td>1.13</td>\n",
       "      <td>2.58</td>\n",
       "      <td>0.56</td>\n",
       "      <td>13.80</td>\n",
       "    </tr>\n",
       "    <tr>\n",
       "      <th>4</th>\n",
       "      <td>1923</td>\n",
       "      <td>0</td>\n",
       "      <td>1.71</td>\n",
       "      <td>2.29</td>\n",
       "      <td>1.29</td>\n",
       "      <td>3.47</td>\n",
       "      <td>4.44</td>\n",
       "      <td>2.46</td>\n",
       "      <td>2.68</td>\n",
       "      <td>0.84</td>\n",
       "      <td>5.43</td>\n",
       "      <td>0.4</td>\n",
       "      <td>0.88</td>\n",
       "      <td>25.89</td>\n",
       "    </tr>\n",
       "    <tr>\n",
       "      <th>5</th>\n",
       "      <td>1924</td>\n",
       "      <td>0.33</td>\n",
       "      <td>0.36</td>\n",
       "      <td>1.77</td>\n",
       "      <td>1.98</td>\n",
       "      <td>2.77</td>\n",
       "      <td>0</td>\n",
       "      <td>0.38</td>\n",
       "      <td>0.47</td>\n",
       "      <td>2.06</td>\n",
       "      <td>1.47</td>\n",
       "      <td>0.16</td>\n",
       "      <td>1.33</td>\n",
       "      <td>13.08</td>\n",
       "    </tr>\n",
       "    <tr>\n",
       "      <th>6</th>\n",
       "      <td>1925</td>\n",
       "      <td>0.06</td>\n",
       "      <td>0</td>\n",
       "      <td>0.35</td>\n",
       "      <td>0.25</td>\n",
       "      <td>1.61</td>\n",
       "      <td>1.86</td>\n",
       "      <td>2.10</td>\n",
       "      <td>1.83</td>\n",
       "      <td>2.24</td>\n",
       "      <td>4.72</td>\n",
       "      <td>0.99</td>\n",
       "      <td>1.18</td>\n",
       "      <td>17.19</td>\n",
       "    </tr>\n",
       "    <tr>\n",
       "      <th>7</th>\n",
       "      <td>1926</td>\n",
       "      <td>0.72</td>\n",
       "      <td>0.65</td>\n",
       "      <td>2.69</td>\n",
       "      <td>3.05</td>\n",
       "      <td>3.22</td>\n",
       "      <td>0.55</td>\n",
       "      <td>1.33</td>\n",
       "      <td>2.03</td>\n",
       "      <td>0.41</td>\n",
       "      <td>0.95</td>\n",
       "      <td>0.33</td>\n",
       "      <td>1.97</td>\n",
       "      <td>17.90</td>\n",
       "    </tr>\n",
       "    <tr>\n",
       "      <th>8</th>\n",
       "      <td>1927</td>\n",
       "      <td>0.22</td>\n",
       "      <td>0.47</td>\n",
       "      <td>2.66</td>\n",
       "      <td>3.46</td>\n",
       "      <td>1.72</td>\n",
       "      <td>3.47</td>\n",
       "      <td>2.39</td>\n",
       "      <td>1.26</td>\n",
       "      <td>1.29</td>\n",
       "      <td>0.86</td>\n",
       "      <td>0.95</td>\n",
       "      <td>0.69</td>\n",
       "      <td>19.44</td>\n",
       "    </tr>\n",
       "    <tr>\n",
       "      <th>9</th>\n",
       "      <td>1928</td>\n",
       "      <td>0.07</td>\n",
       "      <td>1.71</td>\n",
       "      <td>2.72</td>\n",
       "      <td>1.55</td>\n",
       "      <td>5.48</td>\n",
       "      <td>2.84</td>\n",
       "      <td>1.34</td>\n",
       "      <td>0.66</td>\n",
       "      <td>0.23</td>\n",
       "      <td>1.78</td>\n",
       "      <td>2.09</td>\n",
       "      <td>0.04</td>\n",
       "      <td>20.51</td>\n",
       "    </tr>\n",
       "  </tbody>\n",
       "</table>\n",
       "</div>"
      ],
      "text/plain": [
       "   Year   JAN   FEB   MAR   APR   MAY   JUN   JUL   AUG   SEP   OCT   NOV  \\\n",
       "0  1919     0  0.32  1.49  1.65  0.88   1.1  7.46  0.95  0.88  1.31  2.07   \n",
       "1  1920  1.22  1.39  0.58  4.07  1.61  1.87  0.68  2.55  0.73  2.43  0.72   \n",
       "2  1921  0.11  0.31  0.77  4.81   1.5  3.62  1.53  2.00  0.17  1.13  0.98   \n",
       "3  1922  0.63  0.59  0.81  3.32  1.02  0.62  1.04  1.50     0  1.13  2.58   \n",
       "4  1923     0  1.71  2.29  1.29  3.47  4.44  2.46  2.68  0.84  5.43   0.4   \n",
       "5  1924  0.33  0.36  1.77  1.98  2.77     0  0.38  0.47  2.06  1.47  0.16   \n",
       "6  1925  0.06     0  0.35  0.25  1.61  1.86  2.10  1.83  2.24  4.72  0.99   \n",
       "7  1926  0.72  0.65  2.69  3.05  3.22  0.55  1.33  2.03  0.41  0.95  0.33   \n",
       "8  1927  0.22  0.47  2.66  3.46  1.72  3.47  2.39  1.26  1.29  0.86  0.95   \n",
       "9  1928  0.07  1.71  2.72  1.55  5.48  2.84  1.34  0.66  0.23  1.78  2.09   \n",
       "\n",
       "    DEC  YEAR TOTAL  \n",
       "0  0.50       18.61  \n",
       "1  0.85       18.70  \n",
       "2  1.46       18.39  \n",
       "3  0.56       13.80  \n",
       "4  0.88       25.89  \n",
       "5  1.33       13.08  \n",
       "6  1.18       17.19  \n",
       "7  1.97       17.90  \n",
       "8  0.69       19.44  \n",
       "9  0.04       20.51  "
      ]
     },
     "execution_count": 4,
     "metadata": {},
     "output_type": "execute_result"
    }
   ],
   "source": [
    "df = pd.read_csv(\"./data/hw1BoulderPPT.csv\")\n",
    "df = df.replace('Tr', 0)\n",
    "df = df.replace('tr', 0)\n",
    "df.head(10)"
   ]
  },
  {
   "cell_type": "markdown",
   "metadata": {},
   "source": [
    "#### b) Generate a series of 12 box plots with month as the x axis and precipitation on the y-axis."
   ]
  },
  {
   "cell_type": "code",
   "execution_count": 5,
   "metadata": {},
   "outputs": [
    {
     "data": {
      "image/png": "[encoded data removed]",
      "text/plain": [
       "<Figure size 1440x360 with 1 Axes>"
      ]
     },
     "metadata": {},
     "output_type": "display_data"
    }
   ],
   "source": [
    "dfMonths = df.drop(['Year', 'YEAR TOTAL'], axis=1)\n",
    "for column in dfMonths:\n",
    "    dfMonths[column] = dfMonths[column].astype(float)\n",
    "    dfMonths.boxplot(figsize=(20, 5))\n"
   ]
  },
  {
   "cell_type": "markdown",
   "metadata": {},
   "source": [
    "\n",
    "#### c) Atmospheric scientists love to group months seasonally, breaking the year into a Winter season including December, January, February; a Spring included March, April, and May; and so forth. Generate a series of 4 box plots with season as the x axis and precipitation on the y-axis.\n",
    "\n"
   ]
  },
  {
   "cell_type": "code",
   "execution_count": 6,
   "metadata": {},
   "outputs": [
    {
     "data": {
      "image/png": "[encoded data removed]",
      "text/plain": [
       "<Figure size 1440x360 with 1 Axes>"
      ]
     },
     "metadata": {},
     "output_type": "display_data"
    }
   ],
   "source": [
    "dfSeasons = dfMonths\n",
    "dfSeasons['Winter'] = dfMonths['DEC'] + dfMonths['JAN'] + dfMonths['FEB']\n",
    "dfSeasons['Spring'] = dfMonths['MAR'] + dfMonths['APR'] + dfMonths['MAY']\n",
    "dfSeasons['Summer'] = dfMonths['JUN'] + dfMonths['JUL'] + dfMonths['AUG']\n",
    "dfSeasons['Fall'] = dfMonths['SEP'] + dfMonths['OCT'] + dfMonths['NOV']\n",
    "dfSeasons = dfSeasons.drop(['JAN', 'FEB', 'MAR', 'APR', 'MAY', 'JUN', 'JUL', 'AUG', 'SEP', 'OCT', 'NOV', 'DEC'], axis=1)\n",
    "dfSeasons.head(10)\n",
    "\n",
    "for column in dfSeasons:\n",
    "    dfSeasons[column] = dfSeasons[column].astype(float)\n",
    "    dfSeasons.boxplot(figsize=(20, 5))"
   ]
  },
  {
   "cell_type": "markdown",
   "metadata": {},
   "source": [
    "#### d) Calculute the mean and standard deviation of the September precipitation in this set.  Suppose monthly precipitation in September is normally distributed with this mean and standard deviation.  If this is true, what is the associated probability of observing `18.16 inches`  of rainfall in any given September, as occurs in 2013?  Explain."
   ]
  },
  {
   "cell_type": "code",
   "execution_count": 7,
   "metadata": {},
   "outputs": [
    {
     "name": "stdout",
     "output_type": "stream",
     "text": [
      "September Mean Precip : 1.6581999999999997 Sept Std Dev: 2.0695973257880604\n",
      "Zscore: [-0.37790947 -0.45075247 -0.72269966 -0.80525505 -0.39733427  0.19512211\n",
      "  0.28253371 -0.60615086 -0.17880528 -0.69356246  0.06400471 -0.63043186\n",
      " -0.70813106 -0.75669306  0.3893701  -0.30992267 -0.12538708  0.09799811\n",
      " -0.47017727  1.72482505 -0.47017727  1.86565485  0.27282131 -0.24193587\n",
      " -0.80525505 -0.80525505 -0.47017727 -0.16423668 -0.45560867 -0.34391607\n",
      " -0.67899386 -0.05254408 -0.37790947 -0.56730126 -0.80039885 -0.13995568\n",
      " -0.29535407 -0.79554265 -0.39247807 -0.29535407  0.65646109 -0.47988967\n",
      "  1.56942666 -0.66928146  0.63218009 -0.63043186  0.57390569  0.5107751\n",
      " -0.30992267 -0.13024328 -0.43618387  1.05466948  1.23920507 -0.23222348\n",
      "  0.3165271   0.22911551 -0.29049787  0.5204875  -0.73241206 -0.52845166\n",
      " -0.52845166 -0.23222348 -0.10110608  1.31204807 -0.62071946 -0.31477887\n",
      "  0.58361809 -0.24679207 -0.25650447  0.17569731  0.91383968  0.08828571\n",
      " -0.21765488 -0.79554265  0.80700329 -0.54302026  0.63218009  0.88470248\n",
      "  0.12713531 -0.48474587  0.4670693   0.4136511   0.05429231 -0.06711268\n",
      " -0.63528806  0.19997831 -0.55273266 -0.19823008  0.12713531  0.08828571\n",
      " -0.60129466 -0.68385006  0.4379321   0.2971023   8.01360381  0.59333049\n",
      " -0.73726826 -0.58672606  0.12713531 -0.30992267]\n"
     ]
    }
   ],
   "source": [
    "dfMonths['SEP'].head(5)\n",
    "# then calc z val and find what percentage is higher or lower than a given val\n",
    "sepMAx = dfMonths['SEP'].max()\n",
    "sepMean = dfMonths['SEP'].mean()\n",
    "sepStdDev = dfMonths['SEP'].std()\n",
    "from scipy import stats\n",
    "sepZScores = stats.zscore(dfMonths['SEP'])\n",
    "print(\"September Mean Precip :\",sepMean,\"Sept Std Dev:\", sepStdDev)\n",
    "print(\"Zscore:\", sepZScores)"
   ]
  },
  {
   "cell_type": "markdown",
   "metadata": {},
   "source": [
    "## Elaboration:\n",
    "***\n",
    "<br>\n",
    "the associated probability of observing a value such as 18.16 based on a normal distribution for precipitation in September is nearly 0. Based on a standard deviation of 2.0695973257880604 and a average rainfall of 1.6581999999999997, getting a value of 18.16 is:"
   ]
  },
  {
   "cell_type": "code",
   "execution_count": 8,
   "metadata": {},
   "outputs": [
    {
     "name": "stdout",
     "output_type": "stream",
     "text": [
      "7.973435119180225 standard deviations\n",
      "6.24639227958645e-15\n"
     ]
    }
   ],
   "source": [
    "Z = (18.16 - sepMean)/ sepStdDev\n",
    "print(Z, \"standard deviations\")\n",
    "import scipy.stats as st\n",
    "probZ = st.norm.pdf(Z)\n",
    "print(probZ)"
   ]
  },
  {
   "cell_type": "markdown",
   "metadata": {},
   "source": [
    "which is a probability of 6.24639227958645e-15 which is really extremely unlikely of occurring."
   ]
  },
  {
   "cell_type": "markdown",
   "metadata": {},
   "source": [
    "#### e) Following the distribution in part d); what is the associated probability of observing `18.16 inches`  of rainfall in *any* September of 100 observed, assuming each year is independent?  Explain."
   ]
  },
  {
   "cell_type": "code",
   "execution_count": 9,
   "metadata": {},
   "outputs": [
    {
     "name": "stdout",
     "output_type": "stream",
     "text": [
      "6.217248937900877e-13\n"
     ]
    }
   ],
   "source": [
    "probOfAnySep = 1-((1-probZ))**100\n",
    "print(probOfAnySep)"
   ]
  },
  {
   "cell_type": "markdown",
   "metadata": {},
   "source": [
    "## Elaboration:\n",
    "***\n",
    "<br>\n",
    "Consider testing if we pulled 100 new data points of September, what's the odds that we pull a value greater than or equal to 18.16?\n",
    "Then consider to simplify it what is the probability of not pulling 18.16?\n",
    "$1 - Prob($Not pulling 18.16$)^{100} = Prob($Pulling 18.16 out of 100 observations$)$\n",
    "Therefore:\n",
    "<br>\n",
    "$1-P(1-$probZ$)^{100}$\n",
    "<br>\n",
    "And after running the calculation above the associated probability is slightly less but still nearly zero at 6.217248937900877e-13"
   ]
  },
  {
   "cell_type": "markdown",
   "metadata": {},
   "source": [
    "#### f) Construct a linear model to determine whether year is a significant predictor of annual precipitation.  Is there evidence to suggest that precipitation in Boulder has changed over time?  Include a plot of the residuals of your model over time.  Is there evidence to suggest that each year may not be independent of the prior year?"
   ]
  },
  {
   "cell_type": "code",
   "execution_count": 10,
   "metadata": {},
   "outputs": [
    {
     "data": {
      "image/png": "[encoded data removed]",
      "text/plain": [
       "<Figure size 432x288 with 1 Axes>"
      ]
     },
     "metadata": {},
     "output_type": "display_data"
    },
    {
     "name": "stdout",
     "output_type": "stream",
     "text": [
      "0.03667448374497463 0.20924877834414948 0.007046614566624254\n"
     ]
    }
   ],
   "source": [
    "from scipy.stats import linregress\n",
    "x = df['Year']\n",
    "y = dfMonths['SEP']\n",
    "gradient, intercept, r_value, p_value, std_err = linregress(x, y)\n",
    "mn=np.min(x)\n",
    "mx=np.max(x)\n",
    "x1=np.linspace(mn,mx,500)\n",
    "y1=gradient*x1+intercept\n",
    "plt.plot(x,y,'ob')\n",
    "plt.plot(x1,y1,'-r')\n",
    "plt.show()\n",
    "# no trend in the residuals. residual is actual minus predicted. googs resid error\n",
    "print(p_value, r_value, std_err)"
   ]
  },
  {
   "cell_type": "markdown",
   "metadata": {},
   "source": [
    "## Elaboration:\n",
    "***\n",
    "<br>\n",
    "The returned r-value of the linear regression model is .209 which indicates the model accounts for only 20% of the variation in the data, thus showing it is not the best representation of the September data set.\n",
    "<br>\n",
    "However the linear regression appears to have a positive trend occurring possibly indicating a increase of rain over the years but again on the counter-side the linear regression has a p-value of 0.037 which is a poor p-value for conclusive findings."
   ]
  },
  {
   "cell_type": "markdown",
   "metadata": {},
   "source": [
    "## Problem 4 (Hypothesis Simulation; 15 points)\n"
   ]
  },
  {
   "cell_type": "markdown",
   "metadata": {},
   "source": [
    "One question we will often be tasked with in the semester is asking what \"random\" looks like.  In hypothesis testing, we typically ask \"what is the probability of observing *this* test statistic if everything is fair/random.\"  We can then do so for a variety of test statistics (`Z`, `T`, proportions, sample variances, etc.) to draw conclusions like \"That doesn't look random!  It's extremely unlikely to happen under the **null hypothesis**, so we reject that hypothesis.\"\n",
    "\n",
    "As we develop new tools this semester, simulation can help us determine what our tools do if everything is random, which helps provide context to the answers we get on real data - which ideally includes a real signal in it that we want to discover."
   ]
  },
  {
   "cell_type": "markdown",
   "metadata": {},
   "source": [
    "## How correlated is really correlated?\n",
    "\n",
    "The code below simulates from the bivariate normal distribution, which we'll use later this semester.  In brief, it simulates a list of points (called `rnorms` below) as an $j \\times 2$ array where each of the `j` rows is an $(x,y)$ point.  We can either simulate these two column vectors $X$ and $Y$ so they're actually independent and the true correlation coefficient $\\rho_{xy}=0$ OR we can simulate them with actual correlations included.\n",
    "\n",
    "We want to know how much correlation is required for us to be able to meaningfully detect it.  Note that our simulated \"*sample*\" correlation coefficients never actually match the true value!\n",
    "\n",
    "Example code:"
   ]
  },
  {
   "cell_type": "code",
   "execution_count": 11,
   "metadata": {},
   "outputs": [
    {
     "name": "stdout",
     "output_type": "stream",
     "text": [
      "[[ 1.         -0.16836237]\n",
      " [-0.16836237  1.        ]]\n",
      "[[1.        0.8823403]\n",
      " [0.8823403 1.       ]]\n"
     ]
    },
    {
     "data": {
      "text/plain": [
       "<matplotlib.collections.PathCollection at 0x1a1d7ac518>"
      ]
     },
     "execution_count": 11,
     "metadata": {},
     "output_type": "execute_result"
    },
    {
     "data": {
      "image/png": "[encoded data removed]",
      "text/plain": [
       "<Figure size 432x288 with 1 Axes>"
      ]
     },
     "metadata": {},
     "output_type": "display_data"
    }
   ],
   "source": [
    "rho=0\n",
    "rnorms=np.random.multivariate_normal([0,0], [[1,rho],[rho,1]],50)  #sample of size j=50 indepenent N(0,1)\n",
    "print(np.corrcoef(rnorms[:,0],y=rnorms[:,1]))\n",
    "plt.scatter(rnorms[:,0],y=rnorms[:,1]) #sanity check... do they look uncorrelated?\n",
    "\n",
    "rho=.8\n",
    "rnorms=np.random.multivariate_normal([0,0], [[1,rho],[rho,1]],50)  #sample of size j=50 rho=.8 N(0,1)\n",
    "print(np.corrcoef(rnorms[:,0],y=rnorms[:,1]))\n",
    "plt.scatter(rnorms[:,0],y=rnorms[:,1]) #sanity check... do they look correlated?\n"
   ]
  },
  {
   "cell_type": "markdown",
   "metadata": {},
   "source": [
    "##### a) Our goal is to understand at what point we can actually tell whether or not things are correlated. To this end, let the example code above guide you to code that allows you to:\n",
    "\n",
    " - i) Generate a sample of `j=10` bivariate normals (of mean 0, variance 1) that are uncorrelated.  Calculate the correlation of this sample.\n",
    " - ii) Repeat step `i` 1000 times.  Save all 1000 correlation coefficients.\n",
    " - iii) Repeat steps `i` and `ii` for `j=100` and `j=1000`.  We now have 3000 correlation coefficients across 3 values of `j`.\n",
    " \n"
   ]
  },
  {
   "cell_type": "code",
   "execution_count": 12,
   "metadata": {},
   "outputs": [
    {
     "name": "stdout",
     "output_type": "stream",
     "text": [
      "1000\n"
     ]
    }
   ],
   "source": [
    "def biVarSim(rho, j, coeffs):\n",
    "    for i in range(1000):\n",
    "        rnorms=np.random.multivariate_normal([0,0], [[1,rho],[rho,1]],j) #N(0,1)\n",
    "        corrM8trx = np.corrcoef(rnorms[:,0],y=rnorms[:,1])\n",
    "        coeffs.append(corrM8trx[1][0])\n",
    "    return coeffs\n",
    "\n",
    "j10coefs = []\n",
    "j10=biVarSim(0,10, j10coefs)\n",
    "print(len(j10)) #make sure you got all the data"
   ]
  },
  {
   "cell_type": "code",
   "execution_count": 13,
   "metadata": {},
   "outputs": [
    {
     "name": "stdout",
     "output_type": "stream",
     "text": [
      "1000\n"
     ]
    }
   ],
   "source": [
    "j100coefs = []\n",
    "j100=biVarSim(0,100,j100coefs)\n",
    "print(len(j100)) #make sure you got all the data"
   ]
  },
  {
   "cell_type": "code",
   "execution_count": 14,
   "metadata": {},
   "outputs": [
    {
     "name": "stdout",
     "output_type": "stream",
     "text": [
      "1000\n"
     ]
    }
   ],
   "source": [
    "j1000coefs=[]\n",
    "j1000=biVarSim(0,1000,j1000coefs)\n",
    "print(len(j1000)) #make sure you got all the data"
   ]
  },
  {
   "cell_type": "markdown",
   "metadata": {},
   "source": [
    "Consider testing the null hypothesis:\n",
    "  - $H_0:$ These samples are uncorrelated\n",
    "  \n",
    "  against the alternative\n",
    "  \n",
    "  - $H_a:$ These samples have $\\rho_{xy} \\ne 0$.\n",
    "  \n",
    "#### b) At what sample correlations do we reject the null hypothesis if we set a probability of Type I error equal to .05?"
   ]
  },
  {
   "cell_type": "code",
   "execution_count": 15,
   "metadata": {},
   "outputs": [
    {
     "name": "stdout",
     "output_type": "stream",
     "text": [
      "0.6410646811065434\n",
      "0.18931004667043325\n",
      "0.06144233157515227\n"
     ]
    }
   ],
   "source": [
    "import numpy as np\n",
    "\n",
    "j10coefs=[abs(number) for number in j10coefs]\n",
    "j100coefs=[abs(number) for number in j100coefs]\n",
    "j1000coefs=[abs(number) for number in j1000coefs]\n",
    "j10coefs.sort()\n",
    "j100coefs.sort()\n",
    "j1000coefs.sort()\n",
    "\n",
    "# np.quantile(j10coefs, 0.95) This doesn't work due to odd error\n",
    "j1095th=j10coefs[950]\n",
    "j10095th=j100coefs[950]\n",
    "j100095th=j1000coefs[950]\n",
    "\n",
    "print(j1095th)\n",
    "print(j10095th)\n",
    "print(j100095th)"
   ]
  },
  {
   "cell_type": "markdown",
   "metadata": {},
   "source": [
    "##### Notes\n",
    "***\n",
    "less than or equal to p=0.05? or just when rho = 0? critical val of p=0.05. two tailed test. hammer correlation coefficients with an absolute value and that becomes our criteria\n",
    "<br>\n",
    "abs-val the given array and find the 95th% quantile value for each"
   ]
  },
  {
   "cell_type": "markdown",
   "metadata": {},
   "source": [
    "Thus, at j=10 the sample correlation we would reject the null hypothesis at is .6169, at j=100 it is .1904, and at j=1000 it is at 0.0637"
   ]
  },
  {
   "cell_type": "markdown",
   "metadata": {},
   "source": [
    "#### c) Use additional simulations as in part a) to determine the power of our test in b) when `j=10`, `j=100`, and `j=1000` if the true correlation coefficient is $\\rho=.1$."
   ]
  },
  {
   "cell_type": "code",
   "execution_count": 16,
   "metadata": {},
   "outputs": [
    {
     "name": "stdout",
     "output_type": "stream",
     "text": [
      "Power of j=10 & rho=.1: 0.057\n",
      "Power of j=100 & rho=.1: 0.186\n",
      "Power of j=100 & rho=.1: 0.883\n"
     ]
    },
    {
     "data": {
      "image/png": "[encoded data removed]",
      "text/plain": [
       "<Figure size 1080x360 with 3 Axes>"
      ]
     },
     "metadata": {},
     "output_type": "display_data"
    }
   ],
   "source": [
    "j10RohCoefs = []\n",
    "j10Roh=biVarSim(.1,10, j10RohCoefs)\n",
    "j10RohCoefs=[abs(number) for number in j10RohCoefs]\n",
    "j10RohCoefs.sort()\n",
    "\n",
    "j100RohCoefs = []\n",
    "j100Roh=biVarSim(.1,100, j100RohCoefs)\n",
    "j100RohCoefs=[abs(number) for number in j100RohCoefs]\n",
    "j100RohCoefs.sort()\n",
    "\n",
    "j1000RohCoefs = []\n",
    "j1000Roh=biVarSim(.1,1000, j1000RohCoefs)\n",
    "j1000RohCoefs=[abs(number) for number in j1000RohCoefs]\n",
    "j1000RohCoefs.sort()\n",
    "\n",
    "fig, axs = plt.subplots(1, 3, sharey=True, figsize=(15,5))\n",
    "axs[0].hist(j10RohCoefs)\n",
    "axs[1].hist(j100RohCoefs)\n",
    "axs[2].hist(j1000RohCoefs)\n",
    "axs[0].axvline(color=\"k\",x=0.6348413256358885)\n",
    "axs[1].axvline(color=\"k\",x=0.19046818246312963)\n",
    "axs[2].axvline(color=\"k\",x=0.06370901681417658)\n",
    "\n",
    "def power(coefs, k):\n",
    "    count=0\n",
    "    for number in coefs: \n",
    "        if number > k : \n",
    "            count = count + 1\n",
    "    return count/1000\n",
    "\n",
    "print(\"Power of j=10 & rho=.1:\", power(j10RohCoefs, 0.6348413256358885))\n",
    "print(\"Power of j=100 & rho=.1:\", power(j100RohCoefs, 0.19046818246312963))\n",
    "print(\"Power of j=100 & rho=.1:\", power(j1000RohCoefs, 0.06370901681417658))\n"
   ]
  },
  {
   "cell_type": "markdown",
   "metadata": {},
   "source": [
    "## Elaboration\n",
    "***\n",
    "<br>\n",
    "Understandably the Power of our test for j=10 is very low at 0.07 but in contrast when we increase the value of j=1000 we get a far stronger power of 0.885!\n",
    "<br>\n",
    "This is of course expected as with any larger data set, the more data points that exist, the higher the likelyhood we will have enough information to properly reject the null hypothesis.\n",
    "<br>\n",
    "If the histograms look on, to explain I took the absolute value of the coefficient data sets and found the ratio of values that exceeded the critical values. by taking the absolute values I could save myself some time and perform all the calculations at once to find the power. \n",
    "<br>\n",
    "For ceonceptual points I determined that the Power = 1 - T2 Error\n",
    "I then used this concept to apply to my code base and derived the results above."
   ]
  },
  {
   "cell_type": "markdown",
   "metadata": {},
   "source": [
    "#### d) Use additional simulations as in part a) to determine the power of our test in b) when `j=10`, `j=100`, and `j=1000` if the true correlation coefficient is $\\rho=-.1$.  Should this differ from part c)?"
   ]
  },
  {
   "cell_type": "code",
   "execution_count": 17,
   "metadata": {},
   "outputs": [
    {
     "name": "stdout",
     "output_type": "stream",
     "text": [
      "Power of j=10 & rho=-.1: 0.048\n",
      "Power of j=100 & rho=-.1: 0.189\n",
      "Power of j=100 & rho=-.1: 0.874\n"
     ]
    },
    {
     "data": {
      "image/png": "[encoded data removed]",
      "text/plain": [
       "<Figure size 1080x360 with 3 Axes>"
      ]
     },
     "metadata": {},
     "output_type": "display_data"
    }
   ],
   "source": [
    "j10RohCoefs = []\n",
    "j10Roh=biVarSim(-.1,10, j10RohCoefs)\n",
    "j10RohCoefs=[abs(number) for number in j10RohCoefs]\n",
    "j10RohCoefs.sort()\n",
    "\n",
    "j100RohCoefs = []\n",
    "j100Roh=biVarSim(-.1,100, j100RohCoefs)\n",
    "j100RohCoefs=[abs(number) for number in j100RohCoefs]\n",
    "j100RohCoefs.sort()\n",
    "\n",
    "j1000RohCoefs = []\n",
    "j1000Roh=biVarSim(-.1,1000, j1000RohCoefs)\n",
    "j1000RohCoefs=[abs(number) for number in j1000RohCoefs]\n",
    "j1000RohCoefs.sort()\n",
    "\n",
    "fig, axs = plt.subplots(1, 3, sharey=True, figsize=(15,5))\n",
    "axs[0].hist(j10RohCoefs)\n",
    "axs[1].hist(j100RohCoefs)\n",
    "axs[2].hist(j1000RohCoefs)\n",
    "axs[0].axvline(color=\"k\",x=0.6348413256358885)\n",
    "axs[1].axvline(color=\"k\",x=0.19046818246312963)\n",
    "axs[2].axvline(color=\"k\",x=0.06370901681417658)\n",
    "\n",
    "print(\"Power of j=10 & rho=-.1:\", power(j10RohCoefs, 0.6348413256358885))\n",
    "print(\"Power of j=100 & rho=-.1:\", power(j100RohCoefs, 0.19046818246312963))\n",
    "print(\"Power of j=100 & rho=-.1:\", power(j1000RohCoefs, 0.06370901681417658))"
   ]
  },
  {
   "cell_type": "markdown",
   "metadata": {},
   "source": [
    "The powers of the values were slightly different as I called a seperate function for simulating the bivariate distribution for roh=-.1 but generally the values were very close as they should be.\n",
    "<br>\n",
    "Consistent with why I took the abs vals of the coefs, the sign value of the roh does not change the existence of the values outside of the critical value range and thus a very similar set of values for the power of our test was the result."
   ]
  }
 ],
 "metadata": {
  "kernelspec": {
   "display_name": "Python 3",
   "language": "python",
   "name": "python3"
  },
  "language_info": {
   "codemirror_mode": {
    "name": "ipython",
    "version": 3
   },
   "file_extension": ".py",
   "mimetype": "text/x-python",
   "name": "python",
   "nbconvert_exporter": "python",
   "pygments_lexer": "ipython3",
   "version": "3.6.5"
  }
 },
 "nbformat": 4,
 "nbformat_minor": 2
}
