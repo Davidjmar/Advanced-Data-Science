{
 "cells": [
  {
   "cell_type": "markdown",
   "metadata": {},
   "source": [
    "<a id='top'></a>\n",
    "\n",
    "# Homework 2: CSCI 4022 F19\n",
    "***\n",
    "\n",
    "**Name**: David Martin\n",
    "\n",
    "***\n",
    "\n",
    "This assignment is due on Canvas by **MIDNIGHT on Friday September 27**. Your solutions to theoretical questions should be done in Markdown directly below the associated question.  Your solutions to computational questions should include any specified Python code and results as well as written commentary on your conclusions.  Remember that you are encouraged to discuss the problems with your classmates, but **you must write all code and solutions on your own**.\n",
    "**NOTES**: \n",
    "\n",
    "- Any relevant data sets should be available under the **Data** module on Canvas.\n",
    "- If you're not familiar with typesetting math directly into Markdown then by all means, do your work on paper first and then typeset it later.  Remember that there is a [reference guide](https://math.meta.stackexchange.com/questions/5020/mathjax-basic-tutorial-and-quick-reference) linked on Canvas on writing math in Markdown. **All** of your written commentary, justifications and mathematical work should be in Markdown.\n",
    "- Because you can technically evaluate notebook cells is a non-linear order, it's a good idea to do Kernel $\\rightarrow$ Restart & Run All as a check before submitting your solutions.  That way if we need to run your code you will know that it will work as expected. \n",
    "- It is **bad form** to make your reader interpret numerical output from your code.  If a question asks you to compute some value from the data you should show your code output **AND** write a summary of the results in Markdown directly below your code. \n",
    "- This probably goes without saying, but... For any question that asks you to calculate something, you **must show all work and justify your answers to receive credit**. Sparse or nonexistent work will receive sparse or nonexistent credit. \n",
    "\n",
    "---\n",
    "**Shortcuts:**  [Problem 1](#p1) | [Problem 2](#p2) | [Problem 3](#p3) | [Problem 4](#p4) | [Problem 5](#p5) | [Problem 6](#p6) \n",
    "\n",
    "---"
   ]
  },
  {
   "cell_type": "code",
   "execution_count": 166,
   "metadata": {},
   "outputs": [],
   "source": [
    "import pandas as pd\n",
    "import matplotlib.pyplot as plt\n",
    "import numpy as np\n",
    "%matplotlib inline"
   ]
  },
  {
   "cell_type": "markdown",
   "metadata": {},
   "source": [
    "***\n",
    "<a/ id='p1'></a>\n",
    "[Back to top](#top)\n",
    "# HW2 Part 1\n",
    "# Problem 1 (Theory: minhashing; 10 pts)\n",
    "\n",
    "Consider minhash values for a single column vector that contains seven components/rows. Five rows hold 0 and two hold 1. Consider taking all 7! = 5040 possible distinct permutations of seven rows. When we choose a permutation of the rows and produce a minhash value for the column, we will use the number of the row, in the permuted order, that is the first with a 1.  Use Markdown cells to demonstrate answers to the following.\n",
    "\n",
    "#### a) For exactly how many of the 5040 permutations is the minhash value for the column a 7?  What proportion is this?"
   ]
  },
  {
   "cell_type": "code",
   "execution_count": 167,
   "metadata": {},
   "outputs": [
    {
     "data": {
      "text/html": [
       "<div>\n",
       "<style scoped>\n",
       "    .dataframe tbody tr th:only-of-type {\n",
       "        vertical-align: middle;\n",
       "    }\n",
       "\n",
       "    .dataframe tbody tr th {\n",
       "        vertical-align: top;\n",
       "    }\n",
       "\n",
       "    .dataframe thead th {\n",
       "        text-align: right;\n",
       "    }\n",
       "</style>\n",
       "<table border=\"1\" class=\"dataframe\">\n",
       "  <thead>\n",
       "    <tr style=\"text-align: right;\">\n",
       "      <th></th>\n",
       "      <th>Column 1</th>\n",
       "    </tr>\n",
       "  </thead>\n",
       "  <tbody>\n",
       "    <tr>\n",
       "      <th>0</th>\n",
       "      <td>1</td>\n",
       "    </tr>\n",
       "    <tr>\n",
       "      <th>1</th>\n",
       "      <td>0</td>\n",
       "    </tr>\n",
       "    <tr>\n",
       "      <th>2</th>\n",
       "      <td>0</td>\n",
       "    </tr>\n",
       "    <tr>\n",
       "      <th>3</th>\n",
       "      <td>0</td>\n",
       "    </tr>\n",
       "    <tr>\n",
       "      <th>4</th>\n",
       "      <td>1</td>\n",
       "    </tr>\n",
       "    <tr>\n",
       "      <th>5</th>\n",
       "      <td>1</td>\n",
       "    </tr>\n",
       "    <tr>\n",
       "      <th>6</th>\n",
       "      <td>0</td>\n",
       "    </tr>\n",
       "  </tbody>\n",
       "</table>\n",
       "</div>"
      ],
      "text/plain": [
       "   Column 1\n",
       "0         1\n",
       "1         0\n",
       "2         0\n",
       "3         0\n",
       "4         1\n",
       "5         1\n",
       "6         0"
      ]
     },
     "execution_count": 167,
     "metadata": {},
     "output_type": "execute_result"
    }
   ],
   "source": [
    "import itertools\n",
    "\n",
    "p = 2/7\n",
    "C = np.random.choice([1, 0], size=(7, 1), p=[p, 1-p])\n",
    "dfC = pd.DataFrame(C, columns=['Column 1'])\n",
    "dfC"
   ]
  },
  {
   "cell_type": "markdown",
   "metadata": {},
   "source": [
    "none because at least the 6th row would contain the first 1."
   ]
  },
  {
   "cell_type": "markdown",
   "metadata": {},
   "source": [
    "#### b) For exactly how many of the 5040 permutations is the minhash value for the column a 6?"
   ]
  },
  {
   "cell_type": "code",
   "execution_count": 168,
   "metadata": {},
   "outputs": [
    {
     "data": {
      "text/plain": [
       "0.047619047619047616"
      ]
     },
     "execution_count": 168,
     "metadata": {},
     "output_type": "execute_result"
    }
   ],
   "source": [
    "import math\n",
    "math.factorial(2)*math.factorial(5)/5040"
   ]
  },
  {
   "cell_type": "markdown",
   "metadata": {},
   "source": [
    "There is only one permuation possible for the minhash value for the column to be a 6, thus, 0.000198 of the permuations or 1/5040th"
   ]
  },
  {
   "cell_type": "markdown",
   "metadata": {},
   "source": [
    "#### c) For exactly how many of the 5040 permutations is the minhash value for the column a 3?"
   ]
  },
  {
   "cell_type": "code",
   "execution_count": 170,
   "metadata": {},
   "outputs": [
    {
     "name": "stdout",
     "output_type": "stream",
     "text": [
      "960 of the permutations the minhash value is 3\n"
     ]
    }
   ],
   "source": [
    "print(4*2*math.factorial(5), 'of the permutations the minhash value is 3')"
   ]
  },
  {
   "cell_type": "markdown",
   "metadata": {},
   "source": [
    "***\n",
    "<a/ id='p2'></a>\n",
    "[Back to top](#top)\n",
    "# Problem 2 (Edit Distance; 20 pts)\n",
    "\n",
    "The following code is a recursive implementation of edit distance."
   ]
  },
  {
   "cell_type": "code",
   "execution_count": 171,
   "metadata": {},
   "outputs": [],
   "source": [
    "#see https://www.python-course.eu/levenshtein_distance.php for this and other, more computationally efficient implementations\n",
    "\n",
    "def LD(s, t):\n",
    "    if s == \"\":\n",
    "        return len(t)\n",
    "    if t == \"\":\n",
    "        return len(s)\n",
    "    if s[-1] == t[-1]:\n",
    "        cost = 0\n",
    "    else:\n",
    "        cost = 1\n",
    "       \n",
    "    res = min([LD(s[:-1], t)+1,\n",
    "               LD(s, t[:-1])+1, \n",
    "               LD(s[:-1], t[:-1]) + cost])\n",
    "    return res\n"
   ]
  },
  {
   "cell_type": "markdown",
   "metadata": {},
   "source": [
    "#### 2a) Determine whether the above implementation only allows insertions and deletions or also also substitutions as single operation by calculating the pairwise edit distances by hand between \"house,\" \"whose,\" and \"louse\" and comparing to the output from the `LD` function."
   ]
  },
  {
   "cell_type": "markdown",
   "metadata": {},
   "source": [
    "## Answer:\n",
    "***\n",
    "#### Using only insertions and deletions:\n",
    "    house to whose = 1.insert w before h  2. delete u = 2\n",
    "    house to louse = 1. delete h   2. insert l  = 2\n",
    "    \n",
    "#### Using substitutions:\n",
    "    house to whose = 1.insert w before h  2. delete u = 2\n",
    "    house to louse = 1. substitute l with h  = 1\n",
    "\n"
   ]
  },
  {
   "cell_type": "code",
   "execution_count": 172,
   "metadata": {
    "scrolled": true
   },
   "outputs": [
    {
     "name": "stdout",
     "output_type": "stream",
     "text": [
      "2 3 1\n"
     ]
    }
   ],
   "source": [
    "print(\n",
    "# LD('abcde','acfdeg'),\n",
    "LD('house', 'whose'),\n",
    "LD('whose', 'louse'),\n",
    "LD('house', 'louse')\n",
    ")"
   ]
  },
  {
   "cell_type": "markdown",
   "metadata": {},
   "source": [
    "by comparing the returned value from LD and the hand calculated edit distance of house to louse, it seems apparent that it also allows substitutions as single operations.\n",
    "***"
   ]
  },
  {
   "cell_type": "markdown",
   "metadata": {},
   "source": [
    "This quesion makes use of two files called: `Actual words.txt` and `pred_words.txt`.\n",
    "\n",
    "Tom is developing a speech recognition system, but found that the system is misspelling a few words,  He wants to check if the computer is having difficulty in indentifying long words.  Help him out by plotting a graph with the length of the word in the x-axis and the `LD` function distance necessary to convert the system identified string to the original string on the y-axis.\n",
    "\n",
    "#### 2b)  Compare edit distances and plot distances versus word length in a plot:"
   ]
  },
  {
   "cell_type": "code",
   "execution_count": 173,
   "metadata": {},
   "outputs": [],
   "source": [
    "def memoize(func):\n",
    "    mem = {}\n",
    "    def memoizer(*args, **kwargs):\n",
    "        key = str(args) + str(kwargs)\n",
    "        if key not in mem:\n",
    "            mem[key] = func(*args, **kwargs)\n",
    "        return mem[key]\n",
    "    return memoizer\n",
    "@memoize    \n",
    "def levenshtein(s, t):\n",
    "    if s == \"\":\n",
    "        return len(t)\n",
    "    if t == \"\":\n",
    "        return len(s)\n",
    "    if s[-1] == t[-1]:\n",
    "        cost = 0\n",
    "    else:\n",
    "        cost = 1\n",
    "    \n",
    "    res = min([levenshtein(s[:-1], t)+1,\n",
    "               levenshtein(s, t[:-1])+1, \n",
    "               levenshtein(s[:-1], t[:-1]) + cost])\n",
    "    return res\n"
   ]
  },
  {
   "cell_type": "code",
   "execution_count": 174,
   "metadata": {},
   "outputs": [
    {
     "name": "stdout",
     "output_type": "stream",
     "text": [
      "[0, 1, 0, 0, 0, 0, 0, 1, 0, 1, 1, 2, 0, 0, 1, 0, 0, 1, 1, 0, 0, 0, 0, 2, 2, 2, 0, 0, 0, 1, 0, 1, 0, 0, 1, 0, 1, 0, 1, 1, 0, 0, 1, 0, 1, 1, 1, 1, 0] [1, 5, 3, 1, 3, 3, 8, 13, 7, 9, 11, 13, 6, 8, 11, 7, 8, 4, 5, 4, 2, 4, 3, 2, 3, 3, 8, 4, 3, 4, 3, 4, 8, 6, 8, 7, 6, 4, 13, 11, 9, 8, 7, 6, 10, 12, 5, 6, 5]\n"
     ]
    },
    {
     "data": {
      "text/plain": [
       "<function matplotlib.pyplot.show(*args, **kw)>"
      ]
     },
     "execution_count": 174,
     "metadata": {},
     "output_type": "execute_result"
    },
    {
     "data": {
      "image/png": "[encoded data removed]",
      "text/plain": [
       "<Figure size 432x288 with 1 Axes>"
      ]
     },
     "metadata": {},
     "output_type": "display_data"
    }
   ],
   "source": [
    "text_file = open(\"./data/actual_words.txt\", \"r\")\n",
    "dfA = text_file.read().split('\\n')\n",
    "text_file = open(\"./data/pred_words.txt\", \"r\")\n",
    "dfP = text_file.read().split('\\n')\n",
    "wordlength = []\n",
    "distance = []\n",
    "\n",
    "for i in range(49):\n",
    "    distance.append(levenshtein(dfA[i], dfP[i]))\n",
    "    wordlength.append(len(dfA[i]))\n",
    "\n",
    "print(distance, wordlength)\n",
    "\n",
    "plt.scatter(wordlength, distance)\n",
    "plt.xlabel('wordlength')\n",
    "plt.ylabel('edit distance')\n",
    "plt.show"
   ]
  },
  {
   "cell_type": "code",
   "execution_count": 175,
   "metadata": {},
   "outputs": [
    {
     "data": {
      "image/png": "[encoded data removed]",
      "text/plain": [
       "<Figure size 432x288 with 1 Axes>"
      ]
     },
     "metadata": {},
     "output_type": "display_data"
    }
   ],
   "source": [
    "from scipy.stats import linregress\n",
    "x=wordlength\n",
    "y=distance\n",
    "gradient, intercept, r_value, p_value, std_err = linregress(x, y)\n",
    "mn=np.min(x)\n",
    "mx=np.max(x)\n",
    "x1=np.linspace(mn,mx,500)\n",
    "y1=gradient*x1+intercept\n",
    "plt.plot(x,y,'ob')\n",
    "plt.plot(x1,y1,'-r')\n",
    "plt.xlabel('wordlength')\n",
    "plt.ylabel('edit distance')\n",
    "plt.show()"
   ]
  },
  {
   "cell_type": "code",
   "execution_count": 176,
   "metadata": {},
   "outputs": [
    {
     "data": {
      "text/plain": [
       "array([0.0486139 , 0.22900763])"
      ]
     },
     "execution_count": 176,
     "metadata": {},
     "output_type": "execute_result"
    }
   ],
   "source": [
    "np.polyfit(x,y,1)"
   ]
  },
  {
   "cell_type": "markdown",
   "metadata": {},
   "source": [
    "Consider the the number of mispellings vs. word length instead of edit distance."
   ]
  },
  {
   "cell_type": "code",
   "execution_count": 177,
   "metadata": {},
   "outputs": [
    {
     "data": {
      "image/png": "[encoded data removed]",
      "text/plain": [
       "<Figure size 432x288 with 1 Axes>"
      ]
     },
     "metadata": {},
     "output_type": "display_data"
    }
   ],
   "source": [
    "wordLs = list(set(wordlength))\n",
    "\n",
    "mispells = [0]*len(wordLs)\n",
    "for i in range(len(x)):\n",
    "    if distance[i] > 0:\n",
    "        index = wordLs.index(wordlength[i])\n",
    "        mispells[index] += 1\n",
    "        \n",
    "x=wordLs\n",
    "y=mispells\n",
    "gradient, intercept, r_value, p_value, std_err = linregress(x, y)\n",
    "mn=np.min(x)\n",
    "mx=np.max(x)\n",
    "x1=np.linspace(mn,mx,500)\n",
    "y1=gradient*x1+intercept\n",
    "plt.plot(x,y,'ob')\n",
    "plt.plot(x1,y1,'-r')\n",
    "plt.xlabel('wordlength')\n",
    "plt.ylabel('mispellings')\n",
    "plt.show()\n"
   ]
  },
  {
   "cell_type": "markdown",
   "metadata": {},
   "source": [
    "#### 2c)  Compare whether or not there is a misspelling versus word length in a plot:"
   ]
  },
  {
   "cell_type": "markdown",
   "metadata": {},
   "source": [
    "# Answer\n",
    "***\n",
    "Based on the simple results of the linear regression and the scatter plot created, there is am obvious positive trend in terms of the edit distance increasing in direct relation to the wordlength. Although I would caution that the trend is only slight and I have seen peers with results that seem to indicate that there is no direct linear relationship between the number of mispellings and word length.\n",
    "<br>\n",
    "Based on my results however, I am inclined to suggest there is likely a relationship between edit distance and wordlength."
   ]
  },
  {
   "cell_type": "markdown",
   "metadata": {},
   "source": [
    "#### 2d)  Can you infer from the graph if there is a linear relationship between the number of operations and the length of words?  What about a logistic-linear relationship between whether there is a misspelling or not and the length of words?  Report the confidence intervals of appropriate regression coefficients to support your conclusion.\n"
   ]
  },
  {
   "cell_type": "markdown",
   "metadata": {},
   "source": [
    "# Answer\n",
    "***\n"
   ]
  },
  {
   "cell_type": "markdown",
   "metadata": {},
   "source": [
    "***\n",
    "<a/ id='p3'></a>\n",
    "[Back to top](#top)\n",
    "# Problem 3 (Applied Minhashing; 20 pts)\n",
    "\n",
    "In this problem we compare similarities of 5 documents available on http://www.gutenberg.org\n",
    "\n",
    " 1) The first approximately 10000 characters of Miguel de Unamuno's *Niebla*, written in Spanish, in the file `Niebla.txt`\n",
    " \n",
    " 2) The first approximately 10000 characters of Miguel de Cervantes *The Ingenious Gentleman Don Quixote of La Mancha*, written in Spanish, in the file `DQ.txt`\n",
    " \n",
    " 3) The first approximately 10000 characters of Homer's *The Iliad*, translated into English by Alexander Pope, in the file `Iliad.txt`\n",
    " \n",
    " 4) The first approximately 10000 characters of Mark Twain's *The Adventures of Tom Sawyer*, in the file `TS.txt` \n",
    " \n",
    " 5) A selected approximately 10000 characters of Mark Twain's *Adventures of Huckleberry Finn*, in the file `MT.txt`\n",
    "\n",
    "### a) Clean the 4 documents, scrubbing all punctuation, changes cases to lower case, and removing accent marks as appropriate.  \n",
    "\n",
    "You should have only 27 unique characters in each book/section after cleaning, corresponding to white spaces and the 26 letters.  \n",
    "\n",
    "(You can and probably should use functions in the string package such as `string.lower`, `string.replace`, etc.)\n",
    "\n",
    "\n"
   ]
  },
  {
   "cell_type": "code",
   "execution_count": 12,
   "metadata": {},
   "outputs": [],
   "source": [
    "import string\n",
    "import unicodedata\n",
    "\n",
    "text_file = open('./data/Niebla.txt', \"r\")\n",
    "dfN = text_file.read().strip(string.punctuation)\n",
    "dfN = dfN.strip(string.punctuation)\n",
    "dfN = dfN.lower()\n",
    "replace_punctuation = str.maketrans(string.punctuation, \" \"*len(string.punctuation))\n",
    "dfN = dfN.translate(str.maketrans('', '', string.punctuation))\n",
    "dfN = dfN.replace('\\n', ' ')\n",
    "dfN = unicodedata.normalize('NFKD', dfN).encode('ASCII', 'ignore')\n",
    "dfN = dfN.decode(\"utf-8\")\n",
    "\n",
    "text_file = open('./data/DQ.txt', \"r\")\n",
    "dfD = text_file.read().strip(string.punctuation)\n",
    "dfD = dfD.strip(string.punctuation)\n",
    "dfD = dfD.lower()\n",
    "replace_punctuation = str.maketrans(string.punctuation, \" \"*len(string.punctuation))\n",
    "dfD = dfD.translate(str.maketrans('', '', string.punctuation))\n",
    "dfD = dfD.replace('\\n', ' ')\n",
    "dfD = unicodedata.normalize('NFKD', dfD).encode('ASCII', 'ignore')\n",
    "dfD = dfD.decode(\"utf-8\")\n",
    "\n",
    "text_file = open('./data/Iliad.txt', \"r\")\n",
    "dfI = text_file.read().strip(string.punctuation)\n",
    "dfI = dfI.strip(string.punctuation)\n",
    "dfI = dfI.lower()\n",
    "replace_punctuation = str.maketrans(string.punctuation, \" \"*len(string.punctuation))\n",
    "dfI = dfI.translate(str.maketrans('', '', string.punctuation))\n",
    "dfI = dfI.replace('\\n', ' ')\n",
    "dfI = unicodedata.normalize('NFKD', dfI).encode('ASCII', 'ignore')\n",
    "dfI = dfI.decode(\"utf-8\")\n",
    "\n",
    "text_file = open('./data/TS.txt', \"r\")\n",
    "dfT = text_file.read().strip(string.punctuation)\n",
    "dfT = dfT.strip(string.punctuation)\n",
    "dfT = dfT.lower()\n",
    "replace_punctuation = str.maketrans(string.punctuation, \" \"*len(string.punctuation))\n",
    "dfT = dfT.translate(str.maketrans('', '', string.punctuation))\n",
    "dfT = dfT.replace('\\n', ' ')\n",
    "dfT = unicodedata.normalize('NFKD', dfT).encode('ASCII', 'ignore')\n",
    "dfT = dfT.decode(\"utf-8\")\n",
    "\n",
    "text_file = open(\"./data/HF.txt\", \"r\")\n",
    "dfH = text_file.read().strip(string.punctuation)\n",
    "dfH = dfH.strip(string.punctuation)\n",
    "dfH = dfH.lower()\n",
    "replace_punctuation = str.maketrans(string.punctuation, \" \"*len(string.punctuation))\n",
    "dfH = dfH.translate(str.maketrans('', '', string.punctuation))\n",
    "dfH = dfH.replace('\\n', ' ')\n",
    "dfH = unicodedata.normalize('NFKD', dfH).encode('ASCII', 'ignore')\n",
    "dfH = dfH.decode(\"utf-8\")\n"
   ]
  },
  {
   "cell_type": "markdown",
   "metadata": {},
   "source": [
    "\n",
    "### b) Compute exact similarity scores between the documents.  Are these the expected results?\n",
    "\n"
   ]
  },
  {
   "cell_type": "markdown",
   "metadata": {},
   "source": [
    "## Answer\n",
    "***\n",
    "Because these documents are so long, I'm going to use a k-value of 9. The reason for this is it's desirable to reduce the probability of any given shingle appearing in any given document."
   ]
  },
  {
   "cell_type": "code",
   "execution_count": 13,
   "metadata": {},
   "outputs": [],
   "source": [
    "def similarity(textFile1, textFile2, k):\n",
    "    shingle1 = []\n",
    "    shingle2 = []\n",
    "    for i in range((len(textFile1)-1)-k):\n",
    "        shingle1.append(textFile1[i:i+k])\n",
    "        shingle2.append(textFile2[i:i+k])\n",
    "    commonalities = []\n",
    "    for i in range(len(shingle2)):\n",
    "        try:\n",
    "            shingle1.index(shingle2[i])\n",
    "            commonalities.append(shingle1[i])\n",
    "        except ValueError:\n",
    "            continue\n",
    "    simScore=(len(commonalities)/(len(shingle1) + len(shingle2) - len(commonalities)))\n",
    "    return simScore"
   ]
  },
  {
   "cell_type": "code",
   "execution_count": 14,
   "metadata": {},
   "outputs": [],
   "source": [
    "texts=[dfN, dfD, dfI, dfT, dfH]\n",
    "scores=[]\n",
    "textNames = [\"dfN\", \"dfD\", \"dfI\", \"dfT\", \"dfH\"]\n",
    "comparison = []\n",
    "for i in range(len(texts)):\n",
    "    for j in range(len(texts)):\n",
    "        if(i != j):\n",
    "            scores.append(similarity(texts[i], texts[j], 9))\n",
    "            comparison.append(textNames[i] + \" vs.\" + textNames[j])"
   ]
  },
  {
   "cell_type": "code",
   "execution_count": 15,
   "metadata": {},
   "outputs": [
    {
     "name": "stdout",
     "output_type": "stream",
     "text": [
      "dfN vs.dfD =  0.02640398090789073\n",
      "dfN vs.dfI =  4.947311136397368e-05\n",
      "dfN vs.dfT =  0.0001979218208807521\n",
      "dfN vs.dfH =  0.0\n",
      "dfD vs.dfI =  9.859988168014199e-05\n",
      "dfD vs.dfT =  9.859988168014199e-05\n",
      "dfD vs.dfH =  0.0\n",
      "dfI vs.dfT =  0.007586651460306441\n",
      "dfI vs.dfH =  0.007336902637319056\n",
      "dfT vs.dfH =  0.02611028601542663\n"
     ]
    }
   ],
   "source": [
    "print(comparison[0]+ \" = \", scores[0])\n",
    "print(comparison[1]+\" = \", scores[1])\n",
    "print(comparison[2]+\" = \", scores[2])\n",
    "print(comparison[3]+\" = \" , scores[3])\n",
    "print(comparison[5]+\" = \", scores[5])\n",
    "print(comparison[6]+\" = \", scores[6])\n",
    "print(comparison[7]+\" = \", scores[7])\n",
    "print(comparison[10]+\" = \", scores[10])\n",
    "print(comparison[11]+\" = \", scores[11])\n",
    "print(comparison[15]+\" = \", scores[15])"
   ]
  },
  {
   "cell_type": "markdown",
   "metadata": {},
   "source": [
    "### c) Implement minhashing with 1000 hash functions on the 4 documents, checking your results against those in part b).\n",
    "\n"
   ]
  },
  {
   "cell_type": "code",
   "execution_count": 181,
   "metadata": {},
   "outputs": [
    {
     "data": {
      "text/plain": [
       "array([[0., 1., 0., 0., 0.],\n",
       "       [0., 0., 0., 0., 1.],\n",
       "       [0., 0., 0., 0., 1.],\n",
       "       ...,\n",
       "       [0., 0., 1., 0., 0.],\n",
       "       [0., 0., 1., 0., 0.],\n",
       "       [0., 1., 0., 0., 0.]])"
      ]
     },
     "execution_count": 181,
     "metadata": {},
     "output_type": "execute_result"
    }
   ],
   "source": [
    "def theShingler(textFiles, k):\n",
    "    shingleGiant = []\n",
    "    for j in textFiles:\n",
    "        for i in range((len(j)-1)-k):\n",
    "            shingleGiant.append(j[i:i+k])\n",
    "    return list(set(shingleGiant))\n",
    "\n",
    "def listOfShingles(textFiles, k):\n",
    "    eachShingleList = []\n",
    "    for j in textFiles:\n",
    "        tmp = []\n",
    "        for i in range((len(j)-1)-k):\n",
    "            tmp.append(j[i:i+k])\n",
    "        eachShingleList.append(tmp)\n",
    "    return eachShingleList\n",
    "\n",
    "bigOlBoy = theShingler(texts, 9)\n",
    "eachTextsShingles = listOfShingles(texts, 9)\n",
    "dfC = np.zeros((len(bigOlBoy), 5))\n",
    "\n",
    "def fillTheMatrix(eachTextsShinglesArg, allShingles, dfC):\n",
    "    for currentText in eachTextsShinglesArg:\n",
    "        for i in range(len(allShingles)):\n",
    "            try:\n",
    "                currentText.index(allShingles[i])\n",
    "                dfC[i,eachTextsShinglesArg.index(currentText)] = 1\n",
    "            except ValueError:\n",
    "                continue\n",
    "    return dfC\n",
    "\n",
    "charMatrix = fillTheMatrix(eachTextsShingles, bigOlBoy, dfC)\n",
    "charMatrix"
   ]
  },
  {
   "cell_type": "code",
   "execution_count": 188,
   "metadata": {},
   "outputs": [],
   "source": [
    "def minhash(nhash, dfC):\n",
    "    '''\n",
    "    Takes a number of hash functions to use (nhash) and characteristic matrix (dfC)\n",
    "    '''\n",
    "    # use the \"universal hash\":  (a*x+b) mod p, where a, b are random ints and p > N (= 10 here) is prime\n",
    "    np.random.seed(4022)\n",
    "    Ahash = np.random.choice(range(0,10000), size=nhash)\n",
    "    Bhash = np.random.choice(range(0,10000), size=nhash)\n",
    "    Phash = 1009\n",
    "    # STEP 2:  initialize signature matrix to all infinities\n",
    "\n",
    "    # initialize the signature matrix\n",
    "    Msig = np.full([nhash, len(dfC.columns)], fill_value=np.inf)\n",
    "\n",
    "    # fill in the signature matrix:\n",
    "\n",
    "    # For each row of the characteristic matrix... \n",
    "    hash_vals = [0]*nhash # initialize\n",
    "    for r in range(len(dfC)):\n",
    "        # STEP 3:  Compute hash values (~permuted row numbers) for that row under each hash function\n",
    "        for h in range(nhash):\n",
    "            hash_vals[h] = (Ahash[h]*r + Bhash[h])%Phash\n",
    "        # STEP 4:  For each column, if there is a 0, do nothing...\n",
    "        for c in range(len(dfC.columns)):\n",
    "            # ... but if there is a 1, replace signature matrix element in that column for each hash fcn \n",
    "            # with the minimum of the hash value in this row, and the current signature matrix element\n",
    "            if dfC.iloc[r,c]==1:\n",
    "                for h in range(nhash):\n",
    "                    if hash_vals[h] < Msig[h,c]:\n",
    "                        Msig[h,c] = hash_vals[h]\n",
    "    return Msig\n",
    "\n",
    "dfUsable = pd.DataFrame(charMatrix, columns=[\"dfN\", \"dfD\", \"dfI\", \"dfT\", \"dfH\"])\n",
    "IHateMyLifeAtThisPoint = minhash(1000, dfUsable)"
   ]
  },
  {
   "cell_type": "markdown",
   "metadata": {},
   "source": [
    "I worked for several hours on this minhash as well as creating a usable characteristic matrix this is what it is."
   ]
  },
  {
   "cell_type": "markdown",
   "metadata": {},
   "source": [
    "\n",
    "\n",
    "### d) Discussion:\n",
    "\n",
    "Can we detect expected differences here?  Are the two Spanish docuemnts most similar to each other?  Are the two documents by the same author, with the same theme, the most similar?  What kind of alternatives \n",
    "\n"
   ]
  },
  {
   "cell_type": "markdown",
   "metadata": {},
   "source": [
    "# Answer\n",
    "***\n",
    "Based on the results above the two spanish documents are the most similar. In addition it appears that the Tom Sawyer and HuckleBerry Finn texts are also very similar. In addition, huckleBerry finn and tom sawyer were nearly equally similar to the Iliad which had returned surprising results."
   ]
  },
  {
   "cell_type": "markdown",
   "metadata": {},
   "source": [
    "# HW2 Part 2\n",
    "\n",
    "***\n",
    "<a/ id='p4'></a>\n",
    "[Back to top](#top)\n",
    "# Problem 4 (Theory: GMM; 10 pts)\n",
    "\n",
    "In the GMM slides from lecture 5, we stated that the weights $w_m$ of the 1-dimension GMM with pdf\n",
    "\n",
    "$f(x|\\theta)=w_1\\phi(x|\\mu_1, \\sigma_1^2)+w_2\\phi(x|\\mu_2, \\sigma_2^2)+\\dots+ w_m\\phi(x|\\mu_m, \\sigma_m^2)$\n",
    "\n",
    "required the weights to sum to one.  \n",
    "\n",
    "#### a) Use the following markdown cell to prove this statement.  In a sentence, describe how this proof might change in higher dimensions."
   ]
  },
  {
   "cell_type": "markdown",
   "metadata": {},
   "source": [
    "## Answer\n",
    "***\n",
    "#### Part 1.\n",
    "<br>\n",
    "The definition of a PDF is the integration of a Gaussian distribution. The concept of a Guassian distribution is a probabilistic curve under which the total area under the curve is equivalent to 1, signifying 100% probability. Therefore, the integration of a Guassian distribution is equal to a 1-dimensional GMM pdf, which is therefore equivalent to one, therefore the summation of the weights signify the total area lying under the curve.\n",
    "<br>\n",
    "#### Part 2.\n",
    "<br>\n",
    "For higher dimensions, for example the 2nd dimension GMM, the weights would be signified by functions that take in an x and a y component to find the weight. As result of the 2nd dimension being the derivation of the 1st dimesnion GMM the sum of the integrals of the weight functions are equivalently equal to one.\n",
    "<br>\n",
    "so in summary the weights in higher dimensions become functions whose summation of all of the integrals are equivalent to 1."
   ]
  },
  {
   "cell_type": "markdown",
   "metadata": {},
   "source": [
    "#### b) Is it possible to have a valid pdf $f(x)$ above if any of the weights $w_k$ are negative?  If not, why not?  If so, what other difficulties might be associated with negative weights?"
   ]
  },
  {
   "cell_type": "markdown",
   "metadata": {},
   "source": [
    "# Answer\n",
    "***\n",
    "No, a negative weight would imply a negative distribution, thus meaning a negative probability which is not a real valuation of likelyhood. Furthermore, when calculating a probability of the pdf containing negative weights, one would need to consider the negative probabilities effect on the probability of, for example, selecting a random variable that falls into X.\n",
    "<br>\n",
    "A negative weight in summary poses massive flaws in being able to calculate any sort of probability and impossibilities in relation to calculating a negative probability."
   ]
  },
  {
   "cell_type": "markdown",
   "metadata": {},
   "source": [
    "***\n",
    "<a/ id='p5'></a>\n",
    "[Back to top](#top)\n",
    "# Problem 5 (Applied K-Means; 20 pts)\n",
    "\n",
    "#### Given is the youtube dataset, which has 1000 trending videos of Youtube (2017) with additional information such as views, likes, dislikes, etc about each video\n",
    "\n",
    "Import youtube dataset as pandas dataframe, see kmeans_youtube_data.csv."
   ]
  },
  {
   "cell_type": "code",
   "execution_count": 22,
   "metadata": {},
   "outputs": [],
   "source": [
    "dfYT = pd.read_csv(\"./data/kmeans_youtube_dataset.csv\")"
   ]
  },
  {
   "cell_type": "markdown",
   "metadata": {},
   "source": [
    "#### (a) Perform k-means clustering on this dataset using Euclidean distance as the distance metric. \n",
    "- Take 'views' and 'likes' as the features\n",
    "- initiate the centroids as the extreme points\n",
    "- choose k as 5"
   ]
  },
  {
   "cell_type": "code",
   "execution_count": 194,
   "metadata": {},
   "outputs": [
    {
     "name": "stdout",
     "output_type": "stream",
     "text": [
      "Initial centroids= [[1724134, 12287], [39349927, 3880074], [670, 1946367], [3880074, 1946367], [2618284, 51303]]\n",
      "Final Centroids = [[2444459, 111480], [31685891, 1408895], [670, 1946367], [13339675, 454464], [5416577, 253288]]\n"
     ]
    },
    {
     "data": {
      "image/png": "[encoded data removed]",
      "text/plain": [
       "<Figure size 360x360 with 1 Axes>"
      ]
     },
     "metadata": {},
     "output_type": "display_data"
    }
   ],
   "source": [
    "import statistics as stats\n",
    "import random\n",
    "\n",
    "def dist(x1,x2):\n",
    "    return np.sqrt(np.sum((x1-x2)**2))\n",
    "\n",
    "views = dfYT['views'].tolist()\n",
    "likes = dfYT['likes'].tolist()\n",
    "x = views\n",
    "y = likes\n",
    "X = np.zeros((len(views), 2))\n",
    "for i in range(len(likes)):\n",
    "    X[i,0] = views[i]\n",
    "    X[i, 1] = likes[i]\n",
    "K = 5\n",
    "centroids = [[0,0], [0,0], [0,0], [0, 0], [0, 0]]\n",
    "centroids[0][0] = min(views)\n",
    "centroids[0][1] = likes[views.index(min(views))]\n",
    "centroids[1][0] = max(views)\n",
    "centroids[1][1] = likes[views.index(max(views))]\n",
    "centroids[2][0] = min(likes)\n",
    "centroids[2][1] = views[likes.index(min(likes))]\n",
    "centroids[3][0] = max(likes)\n",
    "centroids[3][1] = views[likes.index(min(likes))]\n",
    "sortedViews = sorted(views)\n",
    "nViews = len(views)\n",
    "medianViewElement = int((nViews) /2)\n",
    "medianViews = sortedViews[medianViewElement]\n",
    "centroids[4][0] = medianViews\n",
    "centroids[4][1] = likes[views.index(medianViews)]\n",
    "\n",
    "\n",
    "def kMean(centroids, X, x, y, kVal):\n",
    "    print(\"Initial centroids=\", centroids)\n",
    "    clusters = [-1]*len(x)\n",
    "    dists=[0]*K\n",
    "    converge = False\n",
    "    while(not converge):\n",
    "        \n",
    "        converge = True\n",
    "        for i in range(len(X)):\n",
    "            dists=[dist(X[i], cent) for cent in centroids]\n",
    "            assignment=dists.index(min(dists))\n",
    "            clusters[i]=assignment\n",
    "        \n",
    "        cluster_coords = {\n",
    "            \"xc0\":[], \"xc1\":[], \"xc2\":[], \"xc3\":[], \"xc4\":[],\n",
    "            \"yc0\":[],\"yc1\":[], \"yc2\":[], \"yc3\":[], \"yc4\":[]\n",
    "        }\n",
    "    \n",
    "        for i in range(len(clusters)):\n",
    "            if clusters[i] == 0:\n",
    "                cluster_coords[\"xc0\"].append(x[i])\n",
    "                cluster_coords[\"yc0\"].append(y[i])\n",
    "            elif clusters[i] == 1:\n",
    "                cluster_coords[\"xc1\"].append(x[i])\n",
    "                cluster_coords[\"yc1\"].append(y[i])\n",
    "            elif clusters[i] == 2:\n",
    "                cluster_coords[\"xc2\"].append(x[i])\n",
    "                cluster_coords[\"yc2\"].append(y[i])\n",
    "            elif clusters[i] == 3:\n",
    "                cluster_coords[\"xc3\"].append(x[i])\n",
    "                cluster_coords[\"yc3\"].append(y[i])\n",
    "            elif clusters[i] == 4:\n",
    "                cluster_coords[\"xc4\"].append(x[i])\n",
    "                cluster_coords[\"yc4\"].append(y[i])\n",
    "\n",
    "        for key in cluster_coords:\n",
    "            try:\n",
    "                if cluster_coords[key]:\n",
    "                    new = round(sum(cluster_coords[key])/len(cluster_coords[key]))\n",
    "                    splitter = [char for char in key]\n",
    "                    clusterNum = int(splitter[2])\n",
    "                    if splitter[0] == \"x\":\n",
    "                        xy = 0\n",
    "                    else:\n",
    "                        xy=1\n",
    "                    if new != centroids[clusterNum][xy]:\n",
    "                        converge = False\n",
    "                    centroids[clusterNum][xy] = new\n",
    "            except:\n",
    "                if cluster_coords[key]:\n",
    "                    new = 0\n",
    "                    if new != centroids[clusterNum][xy]:\n",
    "                        converge = False\n",
    "                    centroids[clusterNum][xy] = new\n",
    "    print(\"Final Centroids =\", centroids)\n",
    "    return centroids, clusters\n",
    "\n",
    "centrds, clsters= kMean(centroids, X, x, y, 5)\n",
    "\n",
    "np.asarray(clsters)\n",
    "np.asanyarray(centrds)\n",
    "\n",
    "fig, ax = plt.subplots(1,1, figsize=(5,5))\n",
    "plt.scatter([x[0] for x in X], [x[1] for x in X], c=clsters)\n",
    "plt.scatter([x[0] for x in centrds], [x[1] for x in centrds], c='red', marker='+')\n",
    "plt.axis([0, 40000000, 0, 900000])\n",
    "plt.xlabel(\"Views\")\n",
    "plt.ylabel(\"Likes\")\n",
    "plt.show()"
   ]
  },
  {
   "cell_type": "markdown",
   "metadata": {},
   "source": [
    "How will you deal with the outliers in this problem?"
   ]
  },
  {
   "cell_type": "markdown",
   "metadata": {},
   "source": [
    "## Answer:\n",
    "***\n",
    "Outliers in this problem were noted as different colors for my group set and ignored as they were so far off, they will not be able to accurately to influence a $\\mu$ in a distribution as it would unfairly throw off the distribution to a degree that would be illogical."
   ]
  },
  {
   "cell_type": "markdown",
   "metadata": {},
   "source": [
    "#### (b) How does 'category_id' affect the results? Which category gets most views and likes?"
   ]
  },
  {
   "cell_type": "code",
   "execution_count": 198,
   "metadata": {},
   "outputs": [
    {
     "data": {
      "text/html": [
       "<div>\n",
       "<style scoped>\n",
       "    .dataframe tbody tr th:only-of-type {\n",
       "        vertical-align: middle;\n",
       "    }\n",
       "\n",
       "    .dataframe tbody tr th {\n",
       "        vertical-align: top;\n",
       "    }\n",
       "\n",
       "    .dataframe thead th {\n",
       "        text-align: right;\n",
       "    }\n",
       "</style>\n",
       "<table border=\"1\" class=\"dataframe\">\n",
       "  <thead>\n",
       "    <tr style=\"text-align: right;\">\n",
       "      <th></th>\n",
       "      <th>video_id</th>\n",
       "      <th>title</th>\n",
       "      <th>channel_title</th>\n",
       "      <th>category_id</th>\n",
       "      <th>views</th>\n",
       "      <th>likes</th>\n",
       "      <th>dislikes</th>\n",
       "      <th>comment_count</th>\n",
       "    </tr>\n",
       "  </thead>\n",
       "  <tbody>\n",
       "    <tr>\n",
       "      <th>0</th>\n",
       "      <td>p9wE8dyzEJE</td>\n",
       "      <td>A Quiet Place (2018) - Official Teaser Trailer...</td>\n",
       "      <td>Paramount Pictures</td>\n",
       "      <td>1</td>\n",
       "      <td>2336528</td>\n",
       "      <td>6729</td>\n",
       "      <td>167</td>\n",
       "      <td>1286</td>\n",
       "    </tr>\n",
       "    <tr>\n",
       "      <th>1</th>\n",
       "      <td>rvskMHn0sqQ</td>\n",
       "      <td>A Selfish Argument for Making the World a Bett...</td>\n",
       "      <td>Kurzgesagt – In a Nutshell</td>\n",
       "      <td>27</td>\n",
       "      <td>1865071</td>\n",
       "      <td>137897</td>\n",
       "      <td>3691</td>\n",
       "      <td>15624</td>\n",
       "    </tr>\n",
       "    <tr>\n",
       "      <th>2</th>\n",
       "      <td>NaX-oGJEZI8</td>\n",
       "      <td>Aaj Se Teri | Padman | Akshay Kumar &amp; Radhika ...</td>\n",
       "      <td>Zee Music Company</td>\n",
       "      <td>10</td>\n",
       "      <td>4222559</td>\n",
       "      <td>92092</td>\n",
       "      <td>3460</td>\n",
       "      <td>5512</td>\n",
       "    </tr>\n",
       "    <tr>\n",
       "      <th>3</th>\n",
       "      <td>dUaCEs3HfdI</td>\n",
       "      <td>Aastha Gill - Buzz feat Badshah | Priyank Shar...</td>\n",
       "      <td>Sony Music India</td>\n",
       "      <td>10</td>\n",
       "      <td>17546748</td>\n",
       "      <td>237743</td>\n",
       "      <td>27279</td>\n",
       "      <td>21034</td>\n",
       "    </tr>\n",
       "    <tr>\n",
       "      <th>4</th>\n",
       "      <td>7kLO2AB5SPM</td>\n",
       "      <td>about Logan Paul</td>\n",
       "      <td>CaseyNeistat</td>\n",
       "      <td>22</td>\n",
       "      <td>2768013</td>\n",
       "      <td>165858</td>\n",
       "      <td>9001</td>\n",
       "      <td>14577</td>\n",
       "    </tr>\n",
       "  </tbody>\n",
       "</table>\n",
       "</div>"
      ],
      "text/plain": [
       "      video_id                                              title  \\\n",
       "0  p9wE8dyzEJE  A Quiet Place (2018) - Official Teaser Trailer...   \n",
       "1  rvskMHn0sqQ  A Selfish Argument for Making the World a Bett...   \n",
       "2  NaX-oGJEZI8  Aaj Se Teri | Padman | Akshay Kumar & Radhika ...   \n",
       "3  dUaCEs3HfdI  Aastha Gill - Buzz feat Badshah | Priyank Shar...   \n",
       "4  7kLO2AB5SPM                                   about Logan Paul   \n",
       "\n",
       "                channel_title  category_id     views   likes  dislikes  \\\n",
       "0          Paramount Pictures            1   2336528    6729       167   \n",
       "1  Kurzgesagt – In a Nutshell           27   1865071  137897      3691   \n",
       "2           Zee Music Company           10   4222559   92092      3460   \n",
       "3            Sony Music India           10  17546748  237743     27279   \n",
       "4                CaseyNeistat           22   2768013  165858      9001   \n",
       "\n",
       "   comment_count  \n",
       "0           1286  \n",
       "1          15624  \n",
       "2           5512  \n",
       "3          21034  \n",
       "4          14577  "
      ]
     },
     "execution_count": 198,
     "metadata": {},
     "output_type": "execute_result"
    }
   ],
   "source": []
  },
  {
   "cell_type": "markdown",
   "metadata": {},
   "source": [
    "#### (c) Find the optimal k for the previous problem (a) using the idea of an \"elbow\" or bend in the average distance-to-centroid of the data set."
   ]
  },
  {
   "cell_type": "code",
   "execution_count": null,
   "metadata": {},
   "outputs": [],
   "source": []
  },
  {
   "cell_type": "markdown",
   "metadata": {},
   "source": [
    "#### (d) Include 'comments' as a feature and do the clustering again.  Are there certain types of category_ids that seem to lend themselves to more comments?  Explain."
   ]
  },
  {
   "cell_type": "code",
   "execution_count": null,
   "metadata": {},
   "outputs": [],
   "source": []
  },
  {
   "cell_type": "markdown",
   "metadata": {},
   "source": []
  },
  {
   "cell_type": "markdown",
   "metadata": {},
   "source": [
    "#### (e) What are the shortcomings of using euclidean distance in this case? What other distance metrics can be used apart from euclidean?"
   ]
  },
  {
   "cell_type": "markdown",
   "metadata": {},
   "source": []
  },
  {
   "cell_type": "markdown",
   "metadata": {},
   "source": [
    "#### (f) What is the correlation coefficient between 'views' and 'likes'? What do you infer from this?"
   ]
  },
  {
   "cell_type": "code",
   "execution_count": null,
   "metadata": {},
   "outputs": [],
   "source": []
  },
  {
   "cell_type": "markdown",
   "metadata": {},
   "source": []
  },
  {
   "cell_type": "markdown",
   "metadata": {},
   "source": [
    "***\n",
    "<a/ id='p6'></a>\n",
    "[Back to top](#top)\n",
    "# Problem 6 (K-means vs. GMM; 20 pts)\n",
    "\n",
    "In this consider a synthetic data set generated by simulating data coming from 3 components."
   ]
  },
  {
   "cell_type": "code",
   "execution_count": 76,
   "metadata": {},
   "outputs": [],
   "source": [
    "import numpy as np \n",
    "import pandas as pd\n",
    "import scipy.stats as stats\n",
    "import matplotlib.pyplot as plt\n",
    "%matplotlib inline\n",
    "np.random.seed(4022)"
   ]
  },
  {
   "cell_type": "markdown",
   "metadata": {},
   "source": [
    "Cluster 1 is coming from a uniform process on $[0,1] \\times [0,1]$:"
   ]
  },
  {
   "cell_type": "code",
   "execution_count": 77,
   "metadata": {},
   "outputs": [],
   "source": [
    "def unifcluster(nsamp):\n",
    "    d={'x': np.random.random(size=nsamp), 'y': np.random.random(size=nsamp)}\n",
    "    dftemp= pd.DataFrame(data=d)\n",
    "    dftemp['True_Cluster']='uniform'\n",
    "    return dftemp\n",
    "\n",
    "#Example 70 points\n",
    "dfunif=unifcluster(70)\n",
    "#plt.scatter(dfunif['x'],dfunif['y'], color='green')\n",
    "#plt.ylim(-1, 3);\n",
    "#plt.xlim(-1, 3);\n"
   ]
  },
  {
   "cell_type": "markdown",
   "metadata": {},
   "source": [
    "Cluster 2 is coming from a multivariate normal (a Gaussian!)"
   ]
  },
  {
   "cell_type": "code",
   "execution_count": 78,
   "metadata": {},
   "outputs": [],
   "source": [
    "def normcluster(nsamp):\n",
    "    d=np.random.multivariate_normal([1.05,1.3], [[.5,-.1],[-.1,.2]],nsamp)\n",
    "    dftemp = pd.DataFrame(data=d, columns=['x','y'])\n",
    "    dftemp['True_Cluster']='normal'\n",
    "    return dftemp\n",
    "\n",
    "#Example 50 points\n",
    "dfnorm=normcluster(50)\n",
    "#plt.scatter(dfnorm['x'],dfnorm['y'], color='blue')\n",
    "#plt.ylim(-1, 3);\n",
    "#plt.xlim(-1, 3);\n",
    "\n",
    "       \n",
    "       "
   ]
  },
  {
   "cell_type": "markdown",
   "metadata": {},
   "source": [
    "Cluster 3 is coming from... something angular?"
   ]
  },
  {
   "cell_type": "code",
   "execution_count": 79,
   "metadata": {},
   "outputs": [],
   "source": [
    "def polarcluster(nsamp):\n",
    "    beta=np.random.beta(10,10,nsamp)\n",
    "    theta=[bi*np.pi-.9 for bi in beta]\n",
    "    runif=np.random.random(nsamp)\n",
    "    r=[.3*ri+1.55 for ri in runif]\n",
    "    x=[0]*nsamp\n",
    "    y=[0]*nsamp\n",
    "    for i in range(nsamp):\n",
    "        x[i]=r[i]*np.cos(theta[i])\n",
    "        y[i]=r[i]*np.sin(theta[i])\n",
    "    d={'x': x, 'y': y}\n",
    "    dftemp= pd.DataFrame(data=d)\n",
    "    dftemp['True_Cluster']='polar'\n",
    "    return dftemp\n",
    "\n",
    "#Example 50 points\n",
    "dfpolar=polarcluster(50)\n",
    "#plt.scatter(dfpolar['x'],dfpolar['y'], color='red')\n",
    "#plt.ylim(-1, 3);\n",
    "#plt.xlim(-1, 3);    "
   ]
  },
  {
   "cell_type": "markdown",
   "metadata": {},
   "source": [
    "All together, these give us our data set:"
   ]
  },
  {
   "cell_type": "code",
   "execution_count": 80,
   "metadata": {},
   "outputs": [
    {
     "data": {
      "text/html": [
       "<div>\n",
       "<style scoped>\n",
       "    .dataframe tbody tr th:only-of-type {\n",
       "        vertical-align: middle;\n",
       "    }\n",
       "\n",
       "    .dataframe tbody tr th {\n",
       "        vertical-align: top;\n",
       "    }\n",
       "\n",
       "    .dataframe thead th {\n",
       "        text-align: right;\n",
       "    }\n",
       "</style>\n",
       "<table border=\"1\" class=\"dataframe\">\n",
       "  <thead>\n",
       "    <tr style=\"text-align: right;\">\n",
       "      <th></th>\n",
       "      <th>x</th>\n",
       "      <th>y</th>\n",
       "      <th>True_Cluster</th>\n",
       "    </tr>\n",
       "  </thead>\n",
       "  <tbody>\n",
       "    <tr>\n",
       "      <th>0</th>\n",
       "      <td>0.355593</td>\n",
       "      <td>1.262988</td>\n",
       "      <td>normal</td>\n",
       "    </tr>\n",
       "    <tr>\n",
       "      <th>1</th>\n",
       "      <td>0.779189</td>\n",
       "      <td>0.764100</td>\n",
       "      <td>normal</td>\n",
       "    </tr>\n",
       "    <tr>\n",
       "      <th>2</th>\n",
       "      <td>0.572387</td>\n",
       "      <td>2.050624</td>\n",
       "      <td>normal</td>\n",
       "    </tr>\n",
       "    <tr>\n",
       "      <th>3</th>\n",
       "      <td>-0.524114</td>\n",
       "      <td>1.761501</td>\n",
       "      <td>normal</td>\n",
       "    </tr>\n",
       "    <tr>\n",
       "      <th>4</th>\n",
       "      <td>1.353092</td>\n",
       "      <td>1.563850</td>\n",
       "      <td>normal</td>\n",
       "    </tr>\n",
       "    <tr>\n",
       "      <th>5</th>\n",
       "      <td>1.249703</td>\n",
       "      <td>0.982300</td>\n",
       "      <td>normal</td>\n",
       "    </tr>\n",
       "    <tr>\n",
       "      <th>6</th>\n",
       "      <td>0.706100</td>\n",
       "      <td>0.646253</td>\n",
       "      <td>normal</td>\n",
       "    </tr>\n",
       "    <tr>\n",
       "      <th>7</th>\n",
       "      <td>1.307480</td>\n",
       "      <td>2.089174</td>\n",
       "      <td>normal</td>\n",
       "    </tr>\n",
       "    <tr>\n",
       "      <th>8</th>\n",
       "      <td>0.444544</td>\n",
       "      <td>1.391092</td>\n",
       "      <td>normal</td>\n",
       "    </tr>\n",
       "    <tr>\n",
       "      <th>9</th>\n",
       "      <td>1.106045</td>\n",
       "      <td>0.986996</td>\n",
       "      <td>normal</td>\n",
       "    </tr>\n",
       "  </tbody>\n",
       "</table>\n",
       "</div>"
      ],
      "text/plain": [
       "          x         y True_Cluster\n",
       "0  0.355593  1.262988       normal\n",
       "1  0.779189  0.764100       normal\n",
       "2  0.572387  2.050624       normal\n",
       "3 -0.524114  1.761501       normal\n",
       "4  1.353092  1.563850       normal\n",
       "5  1.249703  0.982300       normal\n",
       "6  0.706100  0.646253       normal\n",
       "7  1.307480  2.089174       normal\n",
       "8  0.444544  1.391092       normal\n",
       "9  1.106045  0.986996       normal"
      ]
     },
     "execution_count": 80,
     "metadata": {},
     "output_type": "execute_result"
    },
    {
     "data": {
      "image/png": "[encoded data removed]",
      "text/plain": [
       "<Figure size 432x288 with 1 Axes>"
      ]
     },
     "metadata": {},
     "output_type": "display_data"
    }
   ],
   "source": [
    "df=dfnorm.append(dfunif.append(dfpolar))\n",
    "plt.scatter(df['x'],df['y'], color='black')\n",
    "\n",
    "plt.scatter(dfunif['x'],dfunif['y'], color='green')\n",
    "plt.scatter(dfnorm['x'],dfnorm['y'], color='blue')\n",
    "plt.scatter(dfpolar['x'],dfpolar['y'], color='red')\n",
    "plt.ylim(-1, 3);\n",
    "plt.xlim(-1, 3);  \n",
    "\n",
    "df.head(10)\n"
   ]
  },
  {
   "cell_type": "markdown",
   "metadata": {},
   "source": [
    "The goal of this problem is to compare k-means and GMMs on this sort of data, and describe strenghts and weaknesses of each model in a way that we could choose between them *a priori* in the future.  The data is in `df`."
   ]
  },
  {
   "cell_type": "markdown",
   "metadata": {},
   "source": [
    "### Part 1: K-Means and Sensitivity\n",
    "\n",
    "For both k=2 and k=3, we are going to run k-means 100 times, each with a different random initialization.\n",
    "\n",
    "Perform the following operations 100 times:\n",
    "\n",
    "    1) Initialize k-means by randomly selecting `k' of your data points\n",
    "    2) Run k-means until convergence\n",
    "    3) Save the final cluster for each point\n",
    "    \n",
    "    \n",
    "A few rows of your final k=3 output might be:\n",
    "\n",
    "`dfk3.head(3)'\n",
    "\n",
    "| Point # | Run1 | Run2 | Run3 | ... | Run 100 |\n",
    "| --- | --- |\n",
    "| 1 | 1 | 2 | 1| ... | 1 |\n",
    "| 2 | 3 | 1 | 3 | ... | 3|\n",
    "| 3 | 1 | 2 | 1 | ... | 1|\n",
    "\n",
    "(so in this example, points 1 & 3 were always in the same cluster, but point 2 was elsewhere)"
   ]
  },
  {
   "cell_type": "code",
   "execution_count": 202,
   "metadata": {},
   "outputs": [],
   "source": [
    "import statistics as stats\n",
    "import random\n",
    "\n",
    "def dist(x1,x2):\n",
    "    return np.sqrt(np.sum((x1-x2)**2))\n",
    "K=2\n",
    "x=df['x'].values\n",
    "y=df['y'].values\n",
    "\n",
    "dists=[0]*K\n",
    "clusters = [-1]*len(x)\n",
    "\n",
    "def kMean2(x, y, kVal):\n",
    "    \n",
    "    dfRuns = np.zeros((len(x), 100))\n",
    "    \n",
    "    for runNum in range(100):\n",
    "        X = np.zeros((len(x), 2))\n",
    "        for i in range(len(x)):\n",
    "            X[i,0] = x[i]\n",
    "            X[i,1] = y[i]\n",
    "\n",
    "        [indx, indy] = random.sample(range(0, len(x)), kVal)\n",
    "        centroids =[[0,0],[0,0]]\n",
    "        centroids[0][0]=x[indx]\n",
    "        centroids[0][1]=y[indy]\n",
    "        centroids[1][0]=x[indx]\n",
    "        centroids[1][1]=y[indy]\n",
    "#         print(\"Initial centroids=\", centroids)\n",
    "        clusters = [-1]*len(x)\n",
    "        dists=[0]*K\n",
    "        converge = False\n",
    "        while(not converge):\n",
    "\n",
    "            converge = True\n",
    "            for i in range(len(X)):\n",
    "                dists=[dist(X[i], cent) for cent in centroids]\n",
    "                assignment=dists.index(min(dists))\n",
    "                clusters[i]=assignment\n",
    "\n",
    "            cluster_coords = {\n",
    "                \"xc0\":[], \n",
    "                \"xc1\":[],\n",
    "                \"yc0\":[],\n",
    "                \"yc1\":[]\n",
    "            }\n",
    "\n",
    "            for i in range(len(clusters)):\n",
    "                if clusters[i] == 0:\n",
    "                    cluster_coords[\"xc0\"].append(x[i])\n",
    "                    cluster_coords[\"yc0\"].append(y[i])\n",
    "                elif clusters[i] == 1:\n",
    "                    cluster_coords[\"xc1\"].append(x[i])\n",
    "                    cluster_coords[\"yc1\"].append(y[i])\n",
    "\n",
    "            for key in cluster_coords:\n",
    "                try:\n",
    "                    if cluster_coords[key]:\n",
    "                        new = sum(cluster_coords[key])/len(cluster_coords[key])\n",
    "                        splitter = [char for char in key]\n",
    "                        clusterNum = int(splitter[2])\n",
    "                        if splitter[0] == \"x\":\n",
    "                            xy = 0\n",
    "                        else:\n",
    "                            xy=1\n",
    "                        if new != centroids[clusterNum][xy]:\n",
    "                            converge = False\n",
    "                        centroids[clusterNum][xy] = new\n",
    "                except:\n",
    "                    if cluster_coords[key]:\n",
    "                        new = 0\n",
    "                        if new != centroids[clusterNum][xy]:\n",
    "                            converge = False\n",
    "                        centroids[clusterNum][xy] = new\n",
    "        for j in range(len(clusters)):\n",
    "            dfRuns[j, runNum] = clusters[j]\n",
    "            \n",
    "    return dfRuns\n",
    "\n",
    "runk2 = kMean2(x, y, K)\n",
    "x=df['x'].values\n",
    "y=df['y'].values\n",
    "K=3\n",
    "\n",
    "def kMean3(x, y, kVal):\n",
    "    dists=[0]*K   \n",
    "    dfRuns = np.zeros((len(x), 100))\n",
    "    \n",
    "    for runNum in range(100):\n",
    "        X = np.zeros((len(x), 2))\n",
    "        for i in range(len(x)):\n",
    "            X[i,0] = x[i]\n",
    "            X[i,1] = y[i]\n",
    "\n",
    "        [indx1, indx2, indx3] = random.sample(range(0, len(x)), K)\n",
    "        centroids =[[0,0],[0,0],[0,0]]\n",
    "        centroids[0][0]=x[indx1]\n",
    "        centroids[0][1]=y[indx1]\n",
    "        centroids[1][0]=x[indx2]\n",
    "        centroids[1][1]=y[indx2]\n",
    "        centroids[2][0]=x[indx3]\n",
    "        centroids[2][1]=y[indx3]\n",
    "        clusters = [-1]*len(x)\n",
    "        dists=[0]*K\n",
    "        converge = False\n",
    "        while(not converge):\n",
    "\n",
    "            converge = True\n",
    "            for i in range(len(X)):\n",
    "                dists=[dist(X[i], cent) for cent in centroids]\n",
    "                assignment=dists.index(min(dists))\n",
    "                clusters[i]=assignment\n",
    "\n",
    "            cluster_coords = {\n",
    "                \"xc0\":[], \n",
    "                \"xc1\":[],\n",
    "                \"xc2\":[],\n",
    "                \"yc0\":[],\n",
    "                \"yc1\":[],\n",
    "                \"yc2\":[]\n",
    "            }\n",
    "\n",
    "            for i in range(len(clusters)):\n",
    "                if clusters[i] == 0:\n",
    "                    cluster_coords[\"xc0\"].append(x[i])\n",
    "                    cluster_coords[\"yc0\"].append(y[i])\n",
    "                elif clusters[i] == 1:\n",
    "                    cluster_coords[\"xc1\"].append(x[i])\n",
    "                    cluster_coords[\"yc1\"].append(y[i])\n",
    "                elif clusters[i] == 2:\n",
    "                    cluster_coords[\"xc2\"].append(x[i])\n",
    "                    cluster_coords[\"yc2\"].append(y[i])\n",
    "\n",
    "\n",
    "            for key in cluster_coords:\n",
    "                try:\n",
    "                    if cluster_coords[key]:\n",
    "                        new = sum(cluster_coords[key])/len(cluster_coords[key])\n",
    "                        splitter = [char for char in key]\n",
    "                        clusterNum = int(splitter[2])\n",
    "                        if splitter[0] == \"x\":\n",
    "                            xy = 0\n",
    "                        else:\n",
    "                            xy=1\n",
    "                        if new != centroids[clusterNum][xy]:\n",
    "                            converge = False\n",
    "                        centroids[clusterNum][xy] = new\n",
    "                except:\n",
    "                    if cluster_coords[key]:\n",
    "                        new = 0\n",
    "                        if new != centroids[clusterNum][xy]:\n",
    "                            converge = False\n",
    "                        centroids[clusterNum][xy] = new\n",
    "        for j in range(len(clusters)):\n",
    "            dfRuns[j, runNum] = clusters[j]\n",
    "            \n",
    "    return dfRuns\n",
    "\n",
    "\n",
    "runk3 = kMean3(x,y,K)"
   ]
  },
  {
   "cell_type": "code",
   "execution_count": 165,
   "metadata": {},
   "outputs": [
    {
     "name": "stdout",
     "output_type": "stream",
     "text": [
      "For k=2: [[0. 0. 0. ... 1. 0. 0.]\n",
      " [1. 0. 0. ... 0. 0. 1.]\n",
      " [0. 1. 1. ... 1. 1. 0.]\n",
      " ...\n",
      " [0. 1. 1. ... 1. 1. 0.]\n",
      " [0. 1. 1. ... 1. 1. 0.]\n",
      " [0. 1. 1. ... 1. 1. 0.]]\n",
      "\n",
      "\n",
      "For k=3 [[1. 0. 2. ... 0. 1. 1.]\n",
      " [2. 2. 0. ... 1. 0. 0.]\n",
      " [1. 0. 2. ... 0. 1. 1.]\n",
      " ...\n",
      " [0. 1. 1. ... 2. 2. 2.]\n",
      " [0. 1. 1. ... 2. 2. 2.]\n",
      " [1. 0. 2. ... 0. 1. 1.]]\n"
     ]
    }
   ],
   "source": [
    "print(\"For k=2:\", runk2)\n",
    "print(\"\\n\")\n",
    "print(\"For k=3\", runk3)"
   ]
  },
  {
   "cell_type": "markdown",
   "metadata": {},
   "source": [
    "0 1 and 2 will behave the same as the exampled 1, 2, and 3."
   ]
  },
  {
   "cell_type": "markdown",
   "metadata": {},
   "source": [
    "### Part 2: GMM as a hard cluster\n",
    "\n",
    "Run the EM algorithm for a Gaussian mixture model on the data with k=2 and k=3 components.  Initialize using the min/max of the first data dimension for k=2, then also initialize with the point the greatest minimum distance from these two points for k=3.\n",
    "\n",
    "When your model has run instead of reporting the estimated $\\gamma$ or $p$ probabilities, *hard* cluster each point $x_i$ according to the maximum estimated $\\gamma$ value for that point so the GMM and k-means models can be compared side by side."
   ]
  },
  {
   "cell_type": "code",
   "execution_count": 215,
   "metadata": {},
   "outputs": [
    {
     "name": "stdout",
     "output_type": "stream",
     "text": [
      "0.5195497008282142 1.4577039711136177\n",
      "0.42792662328947145 97.25247404078986\n",
      "[0, 0, 0, 0, 1, 1, 0, 1, 0, 1, 1, 1, 0, 1, 0, 1, 0, 1, 1, 1, 0, 0, 1, 0, 1, 1, 0, 1, 0, 1, 1, 0, 0, 1, 1, 1, 1, 0, 1, 0, 0, 0, 1, 1, 1, 0, 0, 0, 0, 1, 0, 0, 0, 0, 0, 0, 0, 0, 0, 0, 0, 0, 0, 0, 0, 0, 0, 0, 0, 0, 0, 0, 0, 0, 0, 0, 0, 0, 0, 0, 0, 0, 0, 0, 0, 0, 0, 0, 0, 0, 0, 0, 0, 0, 0, 0, 0, 0, 0, 0, 0, 0, 0, 0, 0, 0, 0, 0, 0, 0, 0, 0, 0, 0, 0, 1, 0, 0, 0, 0, 1, 1, 1, 1, 0, 1, 1, 1, 1, 1, 1, 1, 1, 0, 0, 1, 0, 1, 1, 1, 1, 1, 1, 1, 1, 1, 1, 1, 1, 1, 1, 1, 1, 1, 1, 1, 1, 1, 1, 1, 1, 1, 1, 1, 1, 1, 1, 1, 1, 0]\n"
     ]
    }
   ],
   "source": [
    "#k=2 initialize\n",
    "from scipy.stats import multivariate_normal as shit\n",
    "\n",
    "x=df['x'].values\n",
    "y=df['y'].values\n",
    "K=2\n",
    "\n",
    "mu1, mu2 = min(x), max(x)\n",
    "covariance = np.cov(x,y)[0][1]\n",
    "pi = 0.50\n",
    "p_class1 = 1-pi\n",
    "p_class2 = pi\n",
    "\n",
    "for _ in range(50): #100 steps is fine; or a tolerance check.\n",
    "    # Expectation step:\n",
    "#     np.random.multivariate_normal([0,0], [[1,.1],[.1,1]],10)  #sample of size j=10 rho=.1  N(0,1)\n",
    "\n",
    "    p_data_given_class1 = shit.pdf(x, mean=mu1, cov=covariance)\n",
    "    p_data_given_class2 = shit.pdf(x, mean=mu2, cov=covariance)\n",
    "\n",
    "    p_class1_given_data = p_data_given_class1*p_class1\n",
    "    p_class2_given_data = p_data_given_class2*p_class2\n",
    "\n",
    "    summ = p_class1_given_data + p_class2_given_data\n",
    "    p_class1_given_data = p_class1_given_data / summ\n",
    "    p_class2_given_data = p_class2_given_data / summ\n",
    "\n",
    "    # Maximization step:\n",
    "    n_class1 = np.sum(p_class1_given_data)\n",
    "    n_class2 = np.sum(p_class2_given_data)\n",
    "\n",
    "    pi = n_class2/len(x)\n",
    "    p_class1 = 1-pi\n",
    "    p_class2 = pi\n",
    "\n",
    "    mu1 = (1/n_class1)*np.sum(p_class1_given_data*x)\n",
    "    mu2 = (1/n_class2)*np.sum(p_class2_given_data*x)\n",
    "\n",
    "#     var1 = (1/n_class1)*np.sum(p_class1_given_data*((x-mu1)**2))\n",
    "#     var2 = (1/n_class2)*np.sum(p_class2_given_data*((x-mu2)**2))\n",
    "\n",
    "print(mu1, mu2)\n",
    "# print(var1, var2)\n",
    "print(pi, n_class1)\n",
    "\n",
    "k2GMM = []\n",
    "for i in range(len(x)):\n",
    "    pdgc1= shit.pdf(x[i], mean=mu1, cov=covariance)\n",
    "    pdgc2 = shit.pdf(x[i], mean=mu2, cov=covariance)\n",
    "    pc1gd = pdgc1*p_class1\n",
    "    pc2gd = pdgc2*p_class2\n",
    "    sumM = pc1gd+pc2gd\n",
    "    pc1gd = pc1gd/sumM\n",
    "    pc2gd = pc2gd/sumM\n",
    "    if pc1gd > pc2gd:\n",
    "        k2GMM.append(0)\n",
    "    else:\n",
    "        k2GMM.append(1)\n",
    "\n",
    "print(k2GMM)"
   ]
  },
  {
   "cell_type": "code",
   "execution_count": 219,
   "metadata": {},
   "outputs": [],
   "source": [
    "#k=3 initialize\n",
    "from scipy.stats import multivariate_normal as shit\n",
    "K=3\n",
    "\n",
    "tmp4median = np.array(x)\n",
    "tmp4median = sorted(tmp4median)\n",
    "tmp4medianVal = tmp4median[round((len(x)+1)/2)]\n",
    "mu1, mu2, mu3= min(x), max(x), tmp4medianVal\n",
    "covariance = np.cov(x,y)[0][1]\n",
    "\n",
    "pi = 0.3333\n",
    "p_class1 = pi\n",
    "p_class2 = pi\n",
    "p_class3 = pi\n",
    "\n",
    "for _ in range(50): #100 steps is fine; or a tolerance check.\n",
    "    # Expectation step:\n",
    "    # np.random.multivariate_normal([0,0], [[1,.1],[.1,1]],10)  #sample of size j=10 rho=.1  N(0,1)\n",
    "\n",
    "    pdgc1 = shit.pdf(x, mean=mu1, cov=covariance)\n",
    "    pdgc2 = shit.pdf(x, mean=mu2, cov=covariance)\n",
    "    pdgc3 = shit.pdf(x, mean=mu3, cov=covariance)\n",
    "    \n",
    "    pc1gd = pdgc1*p_class1\n",
    "    pc2gd = pdgc2*p_class2\n",
    "    pc3gd = pdgc3*p_class2\n",
    "\n",
    "    summ = pc1gd + pc2gd + pc3gd\n",
    "    pc1gd = pc1gd / summ\n",
    "    pc2gd = pc2gd / summ\n",
    "    pc3gd = pc3gd / summ\n",
    "\n",
    "    # Maximization step:\n",
    "    n_class1 = np.sum(pc1gd)\n",
    "    n_class2 = np.sum(pc2gd)\n",
    "    n_class3 = np.sum(pc3gd)\n",
    "\n",
    "    p_class1 = n_class3/len(x)\n",
    "    p_class2 = n_class2/len(x)\n",
    "    p_class3 = n_class1/len(x)\n",
    "\n",
    "    mu1 = (1/n_class1)*np.sum(pc1gd*x)\n",
    "    mu2 = (1/n_class2)*np.sum(pc2gd*x)\n",
    "    mu3 = (1/n_class3)*np.sum(pc3gd*x)\n",
    "\n",
    "#     var1 = (1/n_class1)*np.sum(p_class1_given_data*((x-mu1)**2))\n",
    "#     var2 = (1/n_class2)*np.sum(p_class2_given_data*((x-mu2)**2))\n",
    "\n",
    "k3GMM = []\n",
    "for i in range(len(x)):\n",
    "    pdgc1= shit.pdf(x[i], mean=mu1, cov=covariance)\n",
    "    pdgc2 = shit.pdf(x[i], mean=mu2, cov=covariance)\n",
    "    pdgc3 = shit.pdf(x[i], mean=mu3, cov=covariance)\n",
    "    pc1gd = pdgc1*p_class1\n",
    "    pc2gd = pdgc2*p_class2\n",
    "    pc3gd = pdgc3*p_class3\n",
    "    sumM = pc1gd+pc2gd+pc3gd\n",
    "    pc1gd = pc1gd/sumM\n",
    "    pc2gd = pc2gd/sumM\n",
    "    pc3gd = pc3gd/sumM\n",
    "    if (pc1gd > pc2gd) and (pc1gd > pc3gd):\n",
    "        k3GMM.append(0)\n",
    "    elif (pc2gd > pc1gd) and (pc2gd > pc3gd):\n",
    "        k3GMM.append(1)\n",
    "    elif (pc3gd > pc1gd) and (pc3gd > pc2gd):\n",
    "        k3GMM.append(2)"
   ]
  },
  {
   "cell_type": "code",
   "execution_count": 220,
   "metadata": {},
   "outputs": [
    {
     "name": "stdout",
     "output_type": "stream",
     "text": [
      "[0, 0, 0, 0, 1, 1, 0, 1, 0, 1, 1, 1, 0, 1, 0, 1, 0, 1, 1, 1, 0, 0, 1, 0, 1, 1, 0, 1, 0, 1, 1, 0, 0, 1, 1, 1, 1, 0, 1, 0, 0, 0, 1, 1, 1, 0, 0, 0, 0, 1, 0, 0, 0, 0, 0, 0, 0, 0, 0, 0, 0, 0, 0, 0, 0, 0, 0, 0, 0, 0, 0, 0, 0, 0, 0, 0, 0, 0, 0, 0, 0, 0, 0, 0, 0, 0, 0, 0, 0, 0, 0, 0, 0, 0, 0, 0, 0, 0, 0, 0, 0, 0, 0, 0, 0, 0, 0, 0, 0, 0, 0, 0, 0, 0, 0, 1, 0, 0, 0, 0, 1, 1, 1, 1, 0, 1, 1, 1, 1, 1, 1, 1, 1, 0, 0, 1, 0, 1, 1, 1, 1, 1, 1, 1, 1, 1, 1, 1, 1, 1, 1, 1, 1, 1, 1, 1, 1, 1, 1, 1, 1, 1, 1, 1, 1, 1, 1, 1, 1, 0]\n"
     ]
    }
   ],
   "source": [
    "print(k2GMM)"
   ]
  },
  {
   "cell_type": "code",
   "execution_count": 221,
   "metadata": {},
   "outputs": [
    {
     "name": "stdout",
     "output_type": "stream",
     "text": [
      "[0, 2, 0, 0, 1, 1, 2, 1, 0, 2, 2, 1, 0, 2, 2, 1, 2, 1, 2, 2, 0, 2, 1, 0, 1, 1, 0, 1, 0, 1, 1, 2, 2, 2, 1, 1, 1, 2, 1, 2, 0, 0, 1, 1, 2, 0, 2, 0, 2, 1, 0, 2, 2, 0, 2, 2, 2, 2, 2, 0, 0, 0, 0, 2, 2, 2, 2, 0, 0, 2, 2, 0, 2, 0, 0, 0, 0, 2, 0, 2, 0, 0, 0, 2, 0, 2, 2, 2, 0, 2, 2, 0, 2, 0, 0, 2, 2, 0, 0, 0, 2, 2, 0, 0, 0, 2, 2, 0, 0, 0, 0, 0, 2, 0, 0, 2, 2, 0, 2, 2, 1, 1, 1, 1, 0, 1, 1, 1, 1, 1, 2, 1, 1, 0, 0, 2, 2, 1, 1, 1, 1, 2, 1, 1, 1, 1, 1, 1, 2, 1, 1, 2, 2, 1, 1, 1, 1, 2, 1, 1, 1, 1, 1, 2, 1, 1, 1, 1, 1, 2]\n"
     ]
    }
   ],
   "source": [
    "print(k3GMM)"
   ]
  },
  {
   "cell_type": "markdown",
   "metadata": {},
   "source": [
    "### Part 3: Scoring models with a Rand statistic\n",
    "We need to do two things: pick a \"best\" model between the multiple calibrations of k-means, and then eventually compare between the models with different numbers of components.\n",
    "\n",
    "To do this we are going to use the Rand statistic, with documentation here: \n",
    "\n",
    "https://scikit-learn.org/stable/modules/generated/sklearn.metrics.adjusted_rand_score.html\n",
    "\n",
    "\n",
    "A) For the 100 runs of `k=2` k-means, compute a similarity matrix of all-pairwise Rand scores.  Select the run with the highest overall summed Rand scores as the \"most indicative run\" (note: this is actually the clustroid of the clusters, if we consider Rand similarity an approximate distance!).  Add that run to a data frame holding the final hard clusters of the two GMM models.\n",
    "\n",
    "B) Repeat part 3A) for `k=3` k-means.  You should now have a matrix with 4 rows (one per model) and 170 columns.  Plot in 4 panes each of these clustering results, with different colors for each cluster.\n",
    "\n",
    "C) Add the original data's clusters to this data frame.\n",
    "\n",
    "D) Compute and print the Rand Statistic for each of the 4 models, comparing to the true data."
   ]
  },
  {
   "cell_type": "code",
   "execution_count": 226,
   "metadata": {},
   "outputs": [
    {
     "name": "stdout",
     "output_type": "stream",
     "text": [
      "1.0\n",
      "-0.49999999999999994\n"
     ]
    }
   ],
   "source": [
    "from sklearn.metrics.cluster import adjusted_rand_score\n",
    "print(adjusted_rand_score([1, 0, 1], [0,1,0])) #example that's actually the same assignments!\n",
    "print(adjusted_rand_score([1, 0, 1], [0,0,1])) #example: Rand score is negative if very different"
   ]
  },
  {
   "cell_type": "code",
   "execution_count": 236,
   "metadata": {},
   "outputs": [
    {
     "ename": "ValueError",
     "evalue": "labels_true and labels_pred must have same size, got 170 and 5",
     "output_type": "error",
     "traceback": [
      "\u001b[0;31m---------------------------------------------------------------------------\u001b[0m",
      "\u001b[0;31mValueError\u001b[0m                                Traceback (most recent call last)",
      "\u001b[0;32m<ipython-input-236-b20786ef0ff0>\u001b[0m in \u001b[0;36m<module>\u001b[0;34m()\u001b[0m\n\u001b[1;32m     38\u001b[0m \u001b[0mfinalTest\u001b[0m \u001b[0;34m=\u001b[0m \u001b[0;34m[\u001b[0m\u001b[0;34m]\u001b[0m\u001b[0;34m\u001b[0m\u001b[0m\n\u001b[1;32m     39\u001b[0m \u001b[0;32mfor\u001b[0m \u001b[0mi\u001b[0m \u001b[0;32min\u001b[0m \u001b[0mrange\u001b[0m\u001b[0;34m(\u001b[0m\u001b[0;36m5\u001b[0m\u001b[0;34m)\u001b[0m\u001b[0;34m:\u001b[0m\u001b[0;34m\u001b[0m\u001b[0m\n\u001b[0;32m---> 40\u001b[0;31m     \u001b[0mfinalTest\u001b[0m\u001b[0;34m.\u001b[0m\u001b[0mappend\u001b[0m\u001b[0;34m(\u001b[0m\u001b[0msklearn\u001b[0m\u001b[0;34m.\u001b[0m\u001b[0mmetrics\u001b[0m\u001b[0;34m.\u001b[0m\u001b[0madjusted_rand_score\u001b[0m\u001b[0;34m(\u001b[0m\u001b[0mfull\u001b[0m\u001b[0;34m[\u001b[0m\u001b[0mi\u001b[0m\u001b[0;34m,\u001b[0m\u001b[0;34m:\u001b[0m\u001b[0;34m]\u001b[0m\u001b[0;34m,\u001b[0m \u001b[0mfull\u001b[0m\u001b[0;34m[\u001b[0m\u001b[0;34m:\u001b[0m\u001b[0;34m,\u001b[0m\u001b[0;36m4\u001b[0m\u001b[0;34m]\u001b[0m\u001b[0;34m)\u001b[0m\u001b[0;34m)\u001b[0m\u001b[0;34m\u001b[0m\u001b[0m\n\u001b[0m\u001b[1;32m     41\u001b[0m \u001b[0mfinalTest\u001b[0m\u001b[0;34m\u001b[0m\u001b[0m\n",
      "\u001b[0;32m/anaconda3/lib/python3.6/site-packages/sklearn/metrics/cluster/supervised.py\u001b[0m in \u001b[0;36madjusted_rand_score\u001b[0;34m(labels_true, labels_pred)\u001b[0m\n\u001b[1;32m    191\u001b[0m \u001b[0;34m\u001b[0m\u001b[0m\n\u001b[1;32m    192\u001b[0m     \"\"\"\n\u001b[0;32m--> 193\u001b[0;31m     \u001b[0mlabels_true\u001b[0m\u001b[0;34m,\u001b[0m \u001b[0mlabels_pred\u001b[0m \u001b[0;34m=\u001b[0m \u001b[0mcheck_clusterings\u001b[0m\u001b[0;34m(\u001b[0m\u001b[0mlabels_true\u001b[0m\u001b[0;34m,\u001b[0m \u001b[0mlabels_pred\u001b[0m\u001b[0;34m)\u001b[0m\u001b[0;34m\u001b[0m\u001b[0m\n\u001b[0m\u001b[1;32m    194\u001b[0m     \u001b[0mn_samples\u001b[0m \u001b[0;34m=\u001b[0m \u001b[0mlabels_true\u001b[0m\u001b[0;34m.\u001b[0m\u001b[0mshape\u001b[0m\u001b[0;34m[\u001b[0m\u001b[0;36m0\u001b[0m\u001b[0;34m]\u001b[0m\u001b[0;34m\u001b[0m\u001b[0m\n\u001b[1;32m    195\u001b[0m     \u001b[0mn_classes\u001b[0m \u001b[0;34m=\u001b[0m \u001b[0mnp\u001b[0m\u001b[0;34m.\u001b[0m\u001b[0munique\u001b[0m\u001b[0;34m(\u001b[0m\u001b[0mlabels_true\u001b[0m\u001b[0;34m)\u001b[0m\u001b[0;34m.\u001b[0m\u001b[0mshape\u001b[0m\u001b[0;34m[\u001b[0m\u001b[0;36m0\u001b[0m\u001b[0;34m]\u001b[0m\u001b[0;34m\u001b[0m\u001b[0m\n",
      "\u001b[0;32m/anaconda3/lib/python3.6/site-packages/sklearn/metrics/cluster/supervised.py\u001b[0m in \u001b[0;36mcheck_clusterings\u001b[0;34m(labels_true, labels_pred)\u001b[0m\n\u001b[1;32m     47\u001b[0m         raise ValueError(\n\u001b[1;32m     48\u001b[0m             \u001b[0;34m\"labels_true and labels_pred must have same size, got %d and %d\"\u001b[0m\u001b[0;34m\u001b[0m\u001b[0m\n\u001b[0;32m---> 49\u001b[0;31m             % (labels_true.shape[0], labels_pred.shape[0]))\n\u001b[0m\u001b[1;32m     50\u001b[0m     \u001b[0;32mreturn\u001b[0m \u001b[0mlabels_true\u001b[0m\u001b[0;34m,\u001b[0m \u001b[0mlabels_pred\u001b[0m\u001b[0;34m\u001b[0m\u001b[0m\n\u001b[1;32m     51\u001b[0m \u001b[0;34m\u001b[0m\u001b[0m\n",
      "\u001b[0;31mValueError\u001b[0m: labels_true and labels_pred must have same size, got 170 and 5"
     ]
    }
   ],
   "source": [
    "\n",
    "trueClusterVals = []\n",
    "holder=df['True_Cluster'].values\n",
    "for i in range(len(holder)):\n",
    "    if holder[i] == 'uniform':\n",
    "        trueClusterVals.append(0)\n",
    "    if holder[i] == 'normal':\n",
    "        trueClusterVals.append(1)\n",
    "    if holder[i] == 'polar':\n",
    "        trueClusterVals.append(2)\n",
    "full = np.zeros((5,len(x)))\n",
    "\n",
    "kmean2 = []\n",
    "for i in range(100):\n",
    "    kmean2.append(sklearn.metrics.adjusted_rand_score(trueClusterVals, runk2[:,i]))\n",
    "highest = max(kmean2)\n",
    "kmean2indx=[i for i, ii in enumerate(kmean2) if ii == highest]\n",
    "full[0, :] = runk2[:, max(kmean2indx)]\n",
    "\n",
    "kmean3 = []\n",
    "for i in range(100):\n",
    "    kmean3.append(sklearn.metrics.adjusted_rand_score(trueClusterVals, runk3[:,i]))\n",
    "highest = max(kmean3)\n",
    "kmean3indx=[i for i, ii in enumerate(kmean3) if ii == highest]\n",
    "full[1, :] = runk3[:, max(kmean3indx)]\n",
    "\n",
    "#######################################\n",
    "\n",
    "full[2, :] = k2GMM\n",
    "full[3, :] = k3GMM\n",
    "\n",
    "######################################\n",
    "\n",
    "full[4, :] = trueClusterVals\n",
    "\n",
    "######################################\n",
    "\n",
    "finalTest = []\n",
    "for i in range(5):\n",
    "    finalTest.append(sklearn.metrics.adjusted_rand_score(full[i,:], full[:,4]))\n",
    "finalTest"
   ]
  },
  {
   "cell_type": "markdown",
   "metadata": {},
   "source": [
    "### Part 4: Discussion\n",
    "\n",
    "A) Between the 4 models: k-means with k=2 or k=3, and 2 or 3 component Gaussian Mixture models, describe in words why you think the best performing model performed best.\n",
    "\n",
    "B) Describe in words why you think the worst performing model performed the worst.  Is it a function of the model or using a Rand statistic to score?\n",
    "\n",
    "For both A) and B) try to make specific comments about the *shape* of the data: which algorithms should work best on angular, uniform, and normal clusters?"
   ]
  },
  {
   "cell_type": "markdown",
   "metadata": {},
   "source": [
    "# Answer\n",
    "***\n",
    "Unfortunately, between the size of this assignment and my 19 credit hours I was not able to resolve the error above in part 3. Which sucks because it kind of means all the work I did before was all for not. But based on conceptual understandings I would claim that the worst performing model would have been the Gaussian mixing model for any of the sizes of k. I would claim this as the Gaussian mixing model relies on pdf valuations and comparitively \"hand-wavy\" probabilities of classifying a data point for an event in relation to k-means clustering. K-means should perform far better as it builds its clusters and updates the centroids of these clusters with intent that multiple events are acting on the data-set and it must adequately update the classification of data points and the \"method\" of classifying them in relation to the distance to the updated centroids of the cluster. Further more with a larger k-value the k-means algorithm would be able to better categorize the larger spread of data and event behaviors as this allows for a higher number of centroids to thus better handle outliers. On the subject of outliers, Gaussian models often struggle with these as they can easily sway the distributions $\\mu$ values and thus easily influence the categorization of randome variable's proabilities of falling within a event's categorization."
   ]
  },
  {
   "cell_type": "code",
   "execution_count": null,
   "metadata": {},
   "outputs": [],
   "source": []
  }
 ],
 "metadata": {
  "kernelspec": {
   "display_name": "Python 3",
   "language": "python",
   "name": "python3"
  },
  "language_info": {
   "codemirror_mode": {
    "name": "ipython",
    "version": 3
   },
   "file_extension": ".py",
   "mimetype": "text/x-python",
   "name": "python",
   "nbconvert_exporter": "python",
   "pygments_lexer": "ipython3",
   "version": "3.6.5"
  }
 },
 "nbformat": 4,
 "nbformat_minor": 2
}
